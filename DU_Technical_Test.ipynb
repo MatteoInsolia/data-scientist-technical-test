{
 "cells": [
  {
   "cell_type": "markdown",
   "source": "## 1. Problem Analysis",
   "metadata": {
    "formattedRanges": [],
    "tags": [],
    "is_collapsed": false,
    "cell_id": "0c64f1a6-0834-4680-bbc8-b7bfb2f3831f",
    "deepnote_cell_type": "text-cell-h2"
   }
  },
  {
   "cell_type": "markdown",
   "source": "## 2. Data Processing",
   "metadata": {
    "formattedRanges": [],
    "tags": [],
    "is_collapsed": false,
    "cell_id": "00001-dac630fb-583b-4e90-bc89-07110acf4c1a",
    "deepnote_cell_type": "text-cell-h2"
   }
  },
  {
   "cell_type": "markdown",
   "source": "Let's set up the python environment by importing the requisite packages:",
   "metadata": {
    "formattedRanges": [],
    "tags": [],
    "is_collapsed": false,
    "cell_id": "00002-84c3e4b8-97e3-4f85-a1fb-f833000f9239",
    "deepnote_cell_type": "text-cell-p"
   }
  },
  {
   "cell_type": "code",
   "metadata": {
    "tags": [],
    "deepnote_to_be_reexecuted": false,
    "source_hash": "4aed4fdd",
    "execution_start": 1655241394814,
    "execution_millis": 1159,
    "cell_id": "00003-3b4c93fa-bf63-4321-a469-e58b828a6ab4",
    "deepnote_cell_type": "code",
    "deepnote_cell_height": 369
   },
   "source": "%matplotlib inline\n\nimport pandas as pd\nimport numpy as np\n\nimport matplotlib.pyplot as plt\nimport seaborn as sns\n\nfrom sklearn.compose import ColumnTransformer, make_column_selector, make_column_transformer\nfrom sklearn.preprocessing import StandardScaler, OneHotEncoder\nfrom sklearn.impute import KNNImputer\n\nfrom sklearn.ensemble import ExtraTreesClassifier, HistGradientBoostingClassifier\nfrom sklearn.svm import LinearSVC\n\nfrom sklearn.model_selection import cross_validate\nfrom sklearn.pipeline import make_pipeline",
   "execution_count": 1,
   "outputs": []
  },
  {
   "cell_type": "markdown",
   "source": "### Cleanup",
   "metadata": {
    "formattedRanges": [],
    "tags": [],
    "is_collapsed": false,
    "cell_id": "00004-9157238e-c090-45c1-88f8-7273a5d024ba",
    "deepnote_cell_type": "text-cell-h3"
   }
  },
  {
   "cell_type": "markdown",
   "source": "After a brief inspection of the training file, we import the data with some minor corrections for boolean parameters:",
   "metadata": {
    "formattedRanges": [],
    "tags": [],
    "is_collapsed": false,
    "cell_id": "00005-ea2795d0-6cbb-433d-9793-699113b88355",
    "deepnote_cell_type": "text-cell-p"
   }
  },
  {
   "cell_type": "code",
   "metadata": {
    "tags": [],
    "deepnote_to_be_reexecuted": false,
    "source_hash": "7718014b",
    "execution_start": 1655241395975,
    "execution_millis": 54,
    "cell_id": "00006-7ec1e657-92c3-4d0b-95da-969d89cc01c3",
    "deepnote_cell_type": "code",
    "deepnote_cell_height": 153
   },
   "source": "raw_train=pd.read_csv('train_auto.csv',\n                        index_col='INDEX',\n                        false_values=['no', 'No', 'NO', 'z_No'],\n                        true_values=['yes', 'Yes', 'YES']\n                    )",
   "execution_count": 2,
   "outputs": []
  },
  {
   "cell_type": "code",
   "metadata": {
    "tags": [],
    "deepnote_to_be_reexecuted": false,
    "source_hash": "102c8e90",
    "execution_start": 1655241396036,
    "execution_millis": 21,
    "cell_id": "00007-01743111-3ec9-4dbd-a1ee-02812b0d5155",
    "deepnote_cell_type": "code",
    "deepnote_cell_height": 701
   },
   "source": "raw_train.info()",
   "execution_count": 3,
   "outputs": [
    {
     "name": "stdout",
     "text": "<class 'pandas.core.frame.DataFrame'>\nInt64Index: 8161 entries, 1 to 10302\nData columns (total 25 columns):\n #   Column       Non-Null Count  Dtype  \n---  ------       --------------  -----  \n 0   TARGET_FLAG  8161 non-null   int64  \n 1   TARGET_AMT   8161 non-null   float64\n 2   KIDSDRIV     8161 non-null   int64  \n 3   AGE          8155 non-null   float64\n 4   HOMEKIDS     8161 non-null   int64  \n 5   YOJ          7707 non-null   float64\n 6   INCOME       7716 non-null   object \n 7   PARENT1      8161 non-null   bool   \n 8   HOME_VAL     7697 non-null   object \n 9   MSTATUS      8161 non-null   bool   \n 10  SEX          8161 non-null   object \n 11  EDUCATION    8161 non-null   object \n 12  JOB          7635 non-null   object \n 13  TRAVTIME     8161 non-null   int64  \n 14  CAR_USE      8161 non-null   object \n 15  BLUEBOOK     8161 non-null   object \n 16  TIF          8161 non-null   int64  \n 17  CAR_TYPE     8161 non-null   object \n 18  RED_CAR      8161 non-null   bool   \n 19  OLDCLAIM     8161 non-null   object \n 20  CLM_FREQ     8161 non-null   int64  \n 21  REVOKED      8161 non-null   bool   \n 22  MVR_PTS      8161 non-null   int64  \n 23  CAR_AGE      7651 non-null   float64\n 24  URBANICITY   8161 non-null   object \ndtypes: bool(4), float64(4), int64(7), object(10)\nmemory usage: 1.4+ MB\n",
     "output_type": "stream"
    }
   ]
  },
  {
   "cell_type": "markdown",
   "source": "From the start, we can see there are quite a few missing entries, so we will have to address that. Most columns have clear meaning (income, age, sex, job); other are more obscure (MVR_PST, TIF). Some columns are booleans, some are categories, some are numerical but with different types. As discussed above, we can drop the TARGET_AMT as is outside of the scope of this analysis and reserve TARGET_FLAG  as target vector for the training:",
   "metadata": {
    "formattedRanges": [],
    "tags": [],
    "is_collapsed": false,
    "cell_id": "00008-70d908cc-6784-4b2d-90b8-db112bdebbed",
    "deepnote_cell_type": "text-cell-p"
   }
  },
  {
   "cell_type": "code",
   "metadata": {
    "tags": [],
    "deepnote_to_be_reexecuted": false,
    "source_hash": "65f4489b",
    "execution_start": 1655241396074,
    "execution_millis": 60,
    "cell_id": "00009-d0f7eb32-3faa-412e-aeff-6410eebf9d53",
    "deepnote_cell_type": "code",
    "deepnote_cell_height": 483.65625
   },
   "source": "train_set=raw_train.drop(columns='TARGET_AMT')       \n\ntarget_flags=train_set['TARGET_FLAG'].astype('bool').to_numpy()    #Copy the flags to an array \n\ntrain_set.head()                                                ",
   "execution_count": 4,
   "outputs": [
    {
     "output_type": "execute_result",
     "execution_count": 4,
     "data": {
      "application/vnd.deepnote.dataframe.v3+json": {
       "column_count": 24,
       "row_count": 5,
       "columns": [
        {
         "name": "TARGET_FLAG",
         "dtype": "int64",
         "stats": {
          "unique_count": 1,
          "nan_count": 0,
          "min": "0",
          "max": "0",
          "histogram": [
           {
            "bin_start": -0.5,
            "bin_end": -0.4,
            "count": 0
           },
           {
            "bin_start": -0.4,
            "bin_end": -0.3,
            "count": 0
           },
           {
            "bin_start": -0.3,
            "bin_end": -0.19999999999999996,
            "count": 0
           },
           {
            "bin_start": -0.19999999999999996,
            "bin_end": -0.09999999999999998,
            "count": 0
           },
           {
            "bin_start": -0.09999999999999998,
            "bin_end": 0,
            "count": 0
           },
           {
            "bin_start": 0,
            "bin_end": 0.10000000000000009,
            "count": 5
           },
           {
            "bin_start": 0.10000000000000009,
            "bin_end": 0.20000000000000007,
            "count": 0
           },
           {
            "bin_start": 0.20000000000000007,
            "bin_end": 0.30000000000000004,
            "count": 0
           },
           {
            "bin_start": 0.30000000000000004,
            "bin_end": 0.4,
            "count": 0
           },
           {
            "bin_start": 0.4,
            "bin_end": 0.5,
            "count": 0
           }
          ]
         }
        },
        {
         "name": "KIDSDRIV",
         "dtype": "int64",
         "stats": {
          "unique_count": 1,
          "nan_count": 0,
          "min": "0",
          "max": "0",
          "histogram": [
           {
            "bin_start": -0.5,
            "bin_end": -0.4,
            "count": 0
           },
           {
            "bin_start": -0.4,
            "bin_end": -0.3,
            "count": 0
           },
           {
            "bin_start": -0.3,
            "bin_end": -0.19999999999999996,
            "count": 0
           },
           {
            "bin_start": -0.19999999999999996,
            "bin_end": -0.09999999999999998,
            "count": 0
           },
           {
            "bin_start": -0.09999999999999998,
            "bin_end": 0,
            "count": 0
           },
           {
            "bin_start": 0,
            "bin_end": 0.10000000000000009,
            "count": 5
           },
           {
            "bin_start": 0.10000000000000009,
            "bin_end": 0.20000000000000007,
            "count": 0
           },
           {
            "bin_start": 0.20000000000000007,
            "bin_end": 0.30000000000000004,
            "count": 0
           },
           {
            "bin_start": 0.30000000000000004,
            "bin_end": 0.4,
            "count": 0
           },
           {
            "bin_start": 0.4,
            "bin_end": 0.5,
            "count": 0
           }
          ]
         }
        },
        {
         "name": "AGE",
         "dtype": "float64",
         "stats": {
          "unique_count": 5,
          "nan_count": 0,
          "min": "35.0",
          "max": "60.0",
          "histogram": [
           {
            "bin_start": 35,
            "bin_end": 37.5,
            "count": 1
           },
           {
            "bin_start": 37.5,
            "bin_end": 40,
            "count": 0
           },
           {
            "bin_start": 40,
            "bin_end": 42.5,
            "count": 0
           },
           {
            "bin_start": 42.5,
            "bin_end": 45,
            "count": 1
           },
           {
            "bin_start": 45,
            "bin_end": 47.5,
            "count": 0
           },
           {
            "bin_start": 47.5,
            "bin_end": 50,
            "count": 0
           },
           {
            "bin_start": 50,
            "bin_end": 52.5,
            "count": 2
           },
           {
            "bin_start": 52.5,
            "bin_end": 55,
            "count": 0
           },
           {
            "bin_start": 55,
            "bin_end": 57.5,
            "count": 0
           },
           {
            "bin_start": 57.5,
            "bin_end": 60,
            "count": 1
           }
          ]
         }
        },
        {
         "name": "HOMEKIDS",
         "dtype": "int64",
         "stats": {
          "unique_count": 2,
          "nan_count": 0,
          "min": "0",
          "max": "1",
          "histogram": [
           {
            "bin_start": 0,
            "bin_end": 0.1,
            "count": 4
           },
           {
            "bin_start": 0.1,
            "bin_end": 0.2,
            "count": 0
           },
           {
            "bin_start": 0.2,
            "bin_end": 0.30000000000000004,
            "count": 0
           },
           {
            "bin_start": 0.30000000000000004,
            "bin_end": 0.4,
            "count": 0
           },
           {
            "bin_start": 0.4,
            "bin_end": 0.5,
            "count": 0
           },
           {
            "bin_start": 0.5,
            "bin_end": 0.6000000000000001,
            "count": 0
           },
           {
            "bin_start": 0.6000000000000001,
            "bin_end": 0.7000000000000001,
            "count": 0
           },
           {
            "bin_start": 0.7000000000000001,
            "bin_end": 0.8,
            "count": 0
           },
           {
            "bin_start": 0.8,
            "bin_end": 0.9,
            "count": 0
           },
           {
            "bin_start": 0.9,
            "bin_end": 1,
            "count": 1
           }
          ]
         }
        },
        {
         "name": "YOJ",
         "dtype": "float64",
         "stats": {
          "unique_count": 3,
          "nan_count": 1,
          "min": "10.0",
          "max": "14.0",
          "histogram": [
           {
            "bin_start": 10,
            "bin_end": 10.4,
            "count": 1
           },
           {
            "bin_start": 10.4,
            "bin_end": 10.8,
            "count": 0
           },
           {
            "bin_start": 10.8,
            "bin_end": 11.2,
            "count": 2
           },
           {
            "bin_start": 11.2,
            "bin_end": 11.6,
            "count": 0
           },
           {
            "bin_start": 11.6,
            "bin_end": 12,
            "count": 0
           },
           {
            "bin_start": 12,
            "bin_end": 12.4,
            "count": 0
           },
           {
            "bin_start": 12.4,
            "bin_end": 12.8,
            "count": 0
           },
           {
            "bin_start": 12.8,
            "bin_end": 13.2,
            "count": 0
           },
           {
            "bin_start": 13.2,
            "bin_end": 13.6,
            "count": 0
           },
           {
            "bin_start": 13.6,
            "bin_end": 14,
            "count": 1
           }
          ]
         }
        },
        {
         "name": "INCOME",
         "dtype": "object",
         "stats": {
          "unique_count": 4,
          "nan_count": 1,
          "categories": [
           {
            "name": "$67,349",
            "count": 1
           },
           {
            "name": "3 others",
            "count": 3
           },
           {
            "name": "Missing",
            "count": 1
           }
          ]
         }
        },
        {
         "name": "PARENT1",
         "dtype": "bool",
         "stats": {
          "unique_count": 1,
          "nan_count": 0,
          "categories": [
           {
            "name": "False",
            "count": 5
           }
          ]
         }
        },
        {
         "name": "HOME_VAL",
         "dtype": "object",
         "stats": {
          "unique_count": 5,
          "nan_count": 0,
          "categories": [
           {
            "name": "$0",
            "count": 1
           },
           {
            "name": "$257,252",
            "count": 1
           },
           {
            "name": "3 others",
            "count": 3
           }
          ]
         }
        },
        {
         "name": "MSTATUS",
         "dtype": "bool",
         "stats": {
          "unique_count": 2,
          "nan_count": 0,
          "categories": [
           {
            "name": "True",
            "count": 3
           },
           {
            "name": "False",
            "count": 2
           }
          ]
         }
        },
        {
         "name": "SEX",
         "dtype": "object",
         "stats": {
          "unique_count": 2,
          "nan_count": 0,
          "categories": [
           {
            "name": "M",
            "count": 3
           },
           {
            "name": "z_F",
            "count": 2
           }
          ]
         }
        },
        {
         "name": "EDUCATION",
         "dtype": "object",
         "stats": {
          "unique_count": 3,
          "nan_count": 0,
          "categories": [
           {
            "name": "PhD",
            "count": 2
           },
           {
            "name": "z_High School",
            "count": 2
           },
           {
            "name": "<High School",
            "count": 1
           }
          ]
         }
        },
        {
         "name": "JOB",
         "dtype": "object",
         "stats": {
          "unique_count": 4,
          "nan_count": 0,
          "categories": [
           {
            "name": "z_Blue Collar",
            "count": 2
           },
           {
            "name": "Professional",
            "count": 1
           },
           {
            "name": "2 others",
            "count": 2
           }
          ]
         }
        },
        {
         "name": "TRAVTIME",
         "dtype": "int64",
         "stats": {
          "unique_count": 5,
          "nan_count": 0,
          "min": "5",
          "max": "36",
          "histogram": [
           {
            "bin_start": 5,
            "bin_end": 8.1,
            "count": 1
           },
           {
            "bin_start": 8.1,
            "bin_end": 11.2,
            "count": 0
           },
           {
            "bin_start": 11.2,
            "bin_end": 14.3,
            "count": 1
           },
           {
            "bin_start": 14.3,
            "bin_end": 17.4,
            "count": 0
           },
           {
            "bin_start": 17.4,
            "bin_end": 20.5,
            "count": 0
           },
           {
            "bin_start": 20.5,
            "bin_end": 23.6,
            "count": 1
           },
           {
            "bin_start": 23.6,
            "bin_end": 26.7,
            "count": 0
           },
           {
            "bin_start": 26.7,
            "bin_end": 29.8,
            "count": 0
           },
           {
            "bin_start": 29.8,
            "bin_end": 32.900000000000006,
            "count": 1
           },
           {
            "bin_start": 32.900000000000006,
            "bin_end": 36,
            "count": 1
           }
          ]
         }
        },
        {
         "name": "CAR_USE",
         "dtype": "object",
         "stats": {
          "unique_count": 2,
          "nan_count": 0,
          "categories": [
           {
            "name": "Private",
            "count": 4
           },
           {
            "name": "Commercial",
            "count": 1
           }
          ]
         }
        },
        {
         "name": "BLUEBOOK",
         "dtype": "object",
         "stats": {
          "unique_count": 5,
          "nan_count": 0,
          "categories": [
           {
            "name": "$14,230",
            "count": 1
           },
           {
            "name": "$14,940",
            "count": 1
           },
           {
            "name": "3 others",
            "count": 3
           }
          ]
         }
        },
        {
         "name": "TIF",
         "dtype": "int64",
         "stats": {
          "unique_count": 4,
          "nan_count": 0,
          "min": "1",
          "max": "11",
          "histogram": [
           {
            "bin_start": 1,
            "bin_end": 2,
            "count": 2
           },
           {
            "bin_start": 2,
            "bin_end": 3,
            "count": 0
           },
           {
            "bin_start": 3,
            "bin_end": 4,
            "count": 0
           },
           {
            "bin_start": 4,
            "bin_end": 5,
            "count": 1
           },
           {
            "bin_start": 5,
            "bin_end": 6,
            "count": 0
           },
           {
            "bin_start": 6,
            "bin_end": 7,
            "count": 0
           },
           {
            "bin_start": 7,
            "bin_end": 8,
            "count": 1
           },
           {
            "bin_start": 8,
            "bin_end": 9,
            "count": 0
           },
           {
            "bin_start": 9,
            "bin_end": 10,
            "count": 0
           },
           {
            "bin_start": 10,
            "bin_end": 11,
            "count": 1
           }
          ]
         }
        },
        {
         "name": "CAR_TYPE",
         "dtype": "object",
         "stats": {
          "unique_count": 2,
          "nan_count": 0,
          "categories": [
           {
            "name": "Minivan",
            "count": 3
           },
           {
            "name": "z_SUV",
            "count": 2
           }
          ]
         }
        },
        {
         "name": "RED_CAR",
         "dtype": "bool",
         "stats": {
          "unique_count": 2,
          "nan_count": 0,
          "categories": [
           {
            "name": "True",
            "count": 3
           },
           {
            "name": "False",
            "count": 2
           }
          ]
         }
        },
        {
         "name": "OLDCLAIM",
         "dtype": "object",
         "stats": {
          "unique_count": 4,
          "nan_count": 0,
          "categories": [
           {
            "name": "$0",
            "count": 2
           },
           {
            "name": "$4,461",
            "count": 1
           },
           {
            "name": "2 others",
            "count": 2
           }
          ]
         }
        },
        {
         "name": "CLM_FREQ",
         "dtype": "int64",
         "stats": {
          "unique_count": 2,
          "nan_count": 0,
          "min": "0",
          "max": "2",
          "histogram": [
           {
            "bin_start": 0,
            "bin_end": 0.2,
            "count": 2
           },
           {
            "bin_start": 0.2,
            "bin_end": 0.4,
            "count": 0
           },
           {
            "bin_start": 0.4,
            "bin_end": 0.6000000000000001,
            "count": 0
           },
           {
            "bin_start": 0.6000000000000001,
            "bin_end": 0.8,
            "count": 0
           },
           {
            "bin_start": 0.8,
            "bin_end": 1,
            "count": 0
           },
           {
            "bin_start": 1,
            "bin_end": 1.2000000000000002,
            "count": 0
           },
           {
            "bin_start": 1.2000000000000002,
            "bin_end": 1.4000000000000001,
            "count": 0
           },
           {
            "bin_start": 1.4000000000000001,
            "bin_end": 1.6,
            "count": 0
           },
           {
            "bin_start": 1.6,
            "bin_end": 1.8,
            "count": 0
           },
           {
            "bin_start": 1.8,
            "bin_end": 2,
            "count": 3
           }
          ]
         }
        },
        {
         "name": "REVOKED",
         "dtype": "bool",
         "stats": {
          "unique_count": 2,
          "nan_count": 0,
          "categories": [
           {
            "name": "False",
            "count": 4
           },
           {
            "name": "True",
            "count": 1
           }
          ]
         }
        },
        {
         "name": "MVR_PTS",
         "dtype": "int64",
         "stats": {
          "unique_count": 2,
          "nan_count": 0,
          "min": "0",
          "max": "3",
          "histogram": [
           {
            "bin_start": 0,
            "bin_end": 0.3,
            "count": 2
           },
           {
            "bin_start": 0.3,
            "bin_end": 0.6,
            "count": 0
           },
           {
            "bin_start": 0.6,
            "bin_end": 0.8999999999999999,
            "count": 0
           },
           {
            "bin_start": 0.8999999999999999,
            "bin_end": 1.2,
            "count": 0
           },
           {
            "bin_start": 1.2,
            "bin_end": 1.5,
            "count": 0
           },
           {
            "bin_start": 1.5,
            "bin_end": 1.7999999999999998,
            "count": 0
           },
           {
            "bin_start": 1.7999999999999998,
            "bin_end": 2.1,
            "count": 0
           },
           {
            "bin_start": 2.1,
            "bin_end": 2.4,
            "count": 0
           },
           {
            "bin_start": 2.4,
            "bin_end": 2.6999999999999997,
            "count": 0
           },
           {
            "bin_start": 2.6999999999999997,
            "bin_end": 3,
            "count": 3
           }
          ]
         }
        },
        {
         "name": "CAR_AGE",
         "dtype": "float64",
         "stats": {
          "unique_count": 5,
          "nan_count": 0,
          "min": "1.0",
          "max": "18.0",
          "histogram": [
           {
            "bin_start": 1,
            "bin_end": 2.7,
            "count": 1
           },
           {
            "bin_start": 2.7,
            "bin_end": 4.4,
            "count": 0
           },
           {
            "bin_start": 4.4,
            "bin_end": 6.1,
            "count": 1
           },
           {
            "bin_start": 6.1,
            "bin_end": 7.8,
            "count": 0
           },
           {
            "bin_start": 7.8,
            "bin_end": 9.5,
            "count": 0
           },
           {
            "bin_start": 9.5,
            "bin_end": 11.2,
            "count": 1
           },
           {
            "bin_start": 11.2,
            "bin_end": 12.9,
            "count": 0
           },
           {
            "bin_start": 12.9,
            "bin_end": 14.6,
            "count": 0
           },
           {
            "bin_start": 14.6,
            "bin_end": 16.299999999999997,
            "count": 0
           },
           {
            "bin_start": 16.299999999999997,
            "bin_end": 18,
            "count": 2
           }
          ]
         }
        },
        {
         "name": "URBANICITY",
         "dtype": "object",
         "stats": {
          "unique_count": 1,
          "nan_count": 0,
          "categories": [
           {
            "name": "Highly Urban/ Urban",
            "count": 5
           }
          ]
         }
        },
        {
         "name": "_deepnote_index_column",
         "dtype": "int64"
        }
       ],
       "rows": [
        {
         "TARGET_FLAG": 0,
         "KIDSDRIV": 0,
         "AGE": 60,
         "HOMEKIDS": 0,
         "YOJ": 11,
         "INCOME": "$67,349",
         "PARENT1": false,
         "HOME_VAL": "$0",
         "MSTATUS": false,
         "SEX": "M",
         "EDUCATION": "PhD",
         "JOB": "Professional",
         "TRAVTIME": 14,
         "CAR_USE": "Private",
         "BLUEBOOK": "$14,230",
         "TIF": 11,
         "CAR_TYPE": "Minivan",
         "RED_CAR": true,
         "OLDCLAIM": "$4,461",
         "CLM_FREQ": 2,
         "REVOKED": false,
         "MVR_PTS": 3,
         "CAR_AGE": 18,
         "URBANICITY": "Highly Urban/ Urban",
         "_deepnote_index_column": 1
        },
        {
         "TARGET_FLAG": 0,
         "KIDSDRIV": 0,
         "AGE": 43,
         "HOMEKIDS": 0,
         "YOJ": 11,
         "INCOME": "$91,449",
         "PARENT1": false,
         "HOME_VAL": "$257,252",
         "MSTATUS": false,
         "SEX": "M",
         "EDUCATION": "z_High School",
         "JOB": "z_Blue Collar",
         "TRAVTIME": 22,
         "CAR_USE": "Commercial",
         "BLUEBOOK": "$14,940",
         "TIF": 1,
         "CAR_TYPE": "Minivan",
         "RED_CAR": true,
         "OLDCLAIM": "$0",
         "CLM_FREQ": 0,
         "REVOKED": false,
         "MVR_PTS": 0,
         "CAR_AGE": 1,
         "URBANICITY": "Highly Urban/ Urban",
         "_deepnote_index_column": 2
        },
        {
         "TARGET_FLAG": 0,
         "KIDSDRIV": 0,
         "AGE": 35,
         "HOMEKIDS": 1,
         "YOJ": 10,
         "INCOME": "$16,039",
         "PARENT1": false,
         "HOME_VAL": "$124,191",
         "MSTATUS": true,
         "SEX": "z_F",
         "EDUCATION": "z_High School",
         "JOB": "Clerical",
         "TRAVTIME": 5,
         "CAR_USE": "Private",
         "BLUEBOOK": "$4,010",
         "TIF": 4,
         "CAR_TYPE": "z_SUV",
         "RED_CAR": false,
         "OLDCLAIM": "$38,690",
         "CLM_FREQ": 2,
         "REVOKED": false,
         "MVR_PTS": 3,
         "CAR_AGE": 10,
         "URBANICITY": "Highly Urban/ Urban",
         "_deepnote_index_column": 4
        },
        {
         "TARGET_FLAG": 0,
         "KIDSDRIV": 0,
         "AGE": 51,
         "HOMEKIDS": 0,
         "YOJ": 14,
         "INCOME": "nan",
         "PARENT1": false,
         "HOME_VAL": "$306,251",
         "MSTATUS": true,
         "SEX": "M",
         "EDUCATION": "<High School",
         "JOB": "z_Blue Collar",
         "TRAVTIME": 32,
         "CAR_USE": "Private",
         "BLUEBOOK": "$15,440",
         "TIF": 7,
         "CAR_TYPE": "Minivan",
         "RED_CAR": true,
         "OLDCLAIM": "$0",
         "CLM_FREQ": 0,
         "REVOKED": false,
         "MVR_PTS": 0,
         "CAR_AGE": 6,
         "URBANICITY": "Highly Urban/ Urban",
         "_deepnote_index_column": 5
        },
        {
         "TARGET_FLAG": 0,
         "KIDSDRIV": 0,
         "AGE": 50,
         "HOMEKIDS": 0,
         "YOJ": "nan",
         "INCOME": "$114,986",
         "PARENT1": false,
         "HOME_VAL": "$243,925",
         "MSTATUS": true,
         "SEX": "z_F",
         "EDUCATION": "PhD",
         "JOB": "Doctor",
         "TRAVTIME": 36,
         "CAR_USE": "Private",
         "BLUEBOOK": "$18,000",
         "TIF": 1,
         "CAR_TYPE": "z_SUV",
         "RED_CAR": false,
         "OLDCLAIM": "$19,217",
         "CLM_FREQ": 2,
         "REVOKED": true,
         "MVR_PTS": 3,
         "CAR_AGE": 17,
         "URBANICITY": "Highly Urban/ Urban",
         "_deepnote_index_column": 6
        }
       ]
      },
      "text/plain": "       TARGET_FLAG  KIDSDRIV   AGE  HOMEKIDS   YOJ    INCOME  PARENT1  \\\nINDEX                                                                   \n1                0         0  60.0         0  11.0   $67,349    False   \n2                0         0  43.0         0  11.0   $91,449    False   \n4                0         0  35.0         1  10.0   $16,039    False   \n5                0         0  51.0         0  14.0       NaN    False   \n6                0         0  50.0         0   NaN  $114,986    False   \n\n       HOME_VAL  MSTATUS  SEX  ... BLUEBOOK TIF  CAR_TYPE RED_CAR OLDCLAIM  \\\nINDEX                          ...                                           \n1            $0    False    M  ...  $14,230  11   Minivan    True   $4,461   \n2      $257,252    False    M  ...  $14,940   1   Minivan    True       $0   \n4      $124,191     True  z_F  ...   $4,010   4     z_SUV   False  $38,690   \n5      $306,251     True    M  ...  $15,440   7   Minivan    True       $0   \n6      $243,925     True  z_F  ...  $18,000   1     z_SUV   False  $19,217   \n\n       CLM_FREQ REVOKED  MVR_PTS CAR_AGE           URBANICITY  \nINDEX                                                          \n1             2   False        3    18.0  Highly Urban/ Urban  \n2             0   False        0     1.0  Highly Urban/ Urban  \n4             2   False        3    10.0  Highly Urban/ Urban  \n5             0   False        0     6.0  Highly Urban/ Urban  \n6             2    True        3    17.0  Highly Urban/ Urban  \n\n[5 rows x 24 columns]",
      "text/html": "<div>\n<style scoped>\n    .dataframe tbody tr th:only-of-type {\n        vertical-align: middle;\n    }\n\n    .dataframe tbody tr th {\n        vertical-align: top;\n    }\n\n    .dataframe thead th {\n        text-align: right;\n    }\n</style>\n<table border=\"1\" class=\"dataframe\">\n  <thead>\n    <tr style=\"text-align: right;\">\n      <th></th>\n      <th>TARGET_FLAG</th>\n      <th>KIDSDRIV</th>\n      <th>AGE</th>\n      <th>HOMEKIDS</th>\n      <th>YOJ</th>\n      <th>INCOME</th>\n      <th>PARENT1</th>\n      <th>HOME_VAL</th>\n      <th>MSTATUS</th>\n      <th>SEX</th>\n      <th>...</th>\n      <th>BLUEBOOK</th>\n      <th>TIF</th>\n      <th>CAR_TYPE</th>\n      <th>RED_CAR</th>\n      <th>OLDCLAIM</th>\n      <th>CLM_FREQ</th>\n      <th>REVOKED</th>\n      <th>MVR_PTS</th>\n      <th>CAR_AGE</th>\n      <th>URBANICITY</th>\n    </tr>\n    <tr>\n      <th>INDEX</th>\n      <th></th>\n      <th></th>\n      <th></th>\n      <th></th>\n      <th></th>\n      <th></th>\n      <th></th>\n      <th></th>\n      <th></th>\n      <th></th>\n      <th></th>\n      <th></th>\n      <th></th>\n      <th></th>\n      <th></th>\n      <th></th>\n      <th></th>\n      <th></th>\n      <th></th>\n      <th></th>\n      <th></th>\n    </tr>\n  </thead>\n  <tbody>\n    <tr>\n      <th>1</th>\n      <td>0</td>\n      <td>0</td>\n      <td>60.0</td>\n      <td>0</td>\n      <td>11.0</td>\n      <td>$67,349</td>\n      <td>False</td>\n      <td>$0</td>\n      <td>False</td>\n      <td>M</td>\n      <td>...</td>\n      <td>$14,230</td>\n      <td>11</td>\n      <td>Minivan</td>\n      <td>True</td>\n      <td>$4,461</td>\n      <td>2</td>\n      <td>False</td>\n      <td>3</td>\n      <td>18.0</td>\n      <td>Highly Urban/ Urban</td>\n    </tr>\n    <tr>\n      <th>2</th>\n      <td>0</td>\n      <td>0</td>\n      <td>43.0</td>\n      <td>0</td>\n      <td>11.0</td>\n      <td>$91,449</td>\n      <td>False</td>\n      <td>$257,252</td>\n      <td>False</td>\n      <td>M</td>\n      <td>...</td>\n      <td>$14,940</td>\n      <td>1</td>\n      <td>Minivan</td>\n      <td>True</td>\n      <td>$0</td>\n      <td>0</td>\n      <td>False</td>\n      <td>0</td>\n      <td>1.0</td>\n      <td>Highly Urban/ Urban</td>\n    </tr>\n    <tr>\n      <th>4</th>\n      <td>0</td>\n      <td>0</td>\n      <td>35.0</td>\n      <td>1</td>\n      <td>10.0</td>\n      <td>$16,039</td>\n      <td>False</td>\n      <td>$124,191</td>\n      <td>True</td>\n      <td>z_F</td>\n      <td>...</td>\n      <td>$4,010</td>\n      <td>4</td>\n      <td>z_SUV</td>\n      <td>False</td>\n      <td>$38,690</td>\n      <td>2</td>\n      <td>False</td>\n      <td>3</td>\n      <td>10.0</td>\n      <td>Highly Urban/ Urban</td>\n    </tr>\n    <tr>\n      <th>5</th>\n      <td>0</td>\n      <td>0</td>\n      <td>51.0</td>\n      <td>0</td>\n      <td>14.0</td>\n      <td>NaN</td>\n      <td>False</td>\n      <td>$306,251</td>\n      <td>True</td>\n      <td>M</td>\n      <td>...</td>\n      <td>$15,440</td>\n      <td>7</td>\n      <td>Minivan</td>\n      <td>True</td>\n      <td>$0</td>\n      <td>0</td>\n      <td>False</td>\n      <td>0</td>\n      <td>6.0</td>\n      <td>Highly Urban/ Urban</td>\n    </tr>\n    <tr>\n      <th>6</th>\n      <td>0</td>\n      <td>0</td>\n      <td>50.0</td>\n      <td>0</td>\n      <td>NaN</td>\n      <td>$114,986</td>\n      <td>False</td>\n      <td>$243,925</td>\n      <td>True</td>\n      <td>z_F</td>\n      <td>...</td>\n      <td>$18,000</td>\n      <td>1</td>\n      <td>z_SUV</td>\n      <td>False</td>\n      <td>$19,217</td>\n      <td>2</td>\n      <td>True</td>\n      <td>3</td>\n      <td>17.0</td>\n      <td>Highly Urban/ Urban</td>\n    </tr>\n  </tbody>\n</table>\n<p>5 rows × 24 columns</p>\n</div>"
     },
     "metadata": {}
    }
   ]
  },
  {
   "cell_type": "markdown",
   "source": "Next we should address the fact that many values in 'object' columns have, for some reason, a 'z_' prepended. Also, maybe because of the dollar symbol, entries in columns that should represent financial values ('INCOME', 'HOME_VAL', 'BLUEBOOK', 'OLDCLAIM') have been erroneously filed as objects, instead of numerical values. Let's clean them up:",
   "metadata": {
    "formattedRanges": [],
    "tags": [],
    "is_collapsed": false,
    "cell_id": "00010-b7612a44-1677-417a-afda-755224c3a485",
    "deepnote_cell_type": "text-cell-p"
   }
  },
  {
   "cell_type": "code",
   "metadata": {
    "tags": [],
    "deepnote_to_be_reexecuted": false,
    "source_hash": "10e9557f",
    "execution_start": 1655241396136,
    "execution_millis": 131,
    "cell_id": "00011-8dcd8389-b95f-4db6-95c2-ad7b0c73b3d0",
    "deepnote_cell_type": "code",
    "deepnote_cell_height": 298.390625
   },
   "source": "#Replaces z_ or $ and separators with nothing in object columns through an anonymous function\n\nfor sym in ['z_', '$', ',']:\n    train_set = train_set.apply(lambda x: x.str.replace(sym, '') if x.dtype == object else x)\n\n#Transforms financial columns to a numerical value\nto_numerical=['INCOME', 'HOME_VAL', 'BLUEBOOK', 'OLDCLAIM']\n\nfor clmn in to_numerical:\n    train_set[clmn]=train_set[clmn].astype('float')",
   "execution_count": 5,
   "outputs": [
    {
     "name": "stderr",
     "text": "<ipython-input-5-24c7a9ab8b7e>:4: FutureWarning: The default value of regex will change from True to False in a future version. In addition, single character regular expressions will*not* be treated as literal strings when regex=True.\n  train_set = train_set.apply(lambda x: x.str.replace(sym, '') if x.dtype == object else x)\n",
     "output_type": "stream"
    }
   ]
  },
  {
   "cell_type": "markdown",
   "source": "The columns CLM_FREQ, HOMEKIDS and KIDSDRIV, are integers but serve better as categorical values; the same is true for the remaining string columns, such as 'SEX', 'JOB' or 'CAR_TYPE':",
   "metadata": {
    "formattedRanges": [],
    "tags": [],
    "is_collapsed": false,
    "cell_id": "00012-5c487955-75cc-4e65-a14e-ff70068446c6",
    "deepnote_cell_type": "text-cell-p"
   }
  },
  {
   "cell_type": "code",
   "metadata": {
    "tags": [],
    "deepnote_to_be_reexecuted": false,
    "source_hash": "fd5ea5f0",
    "execution_start": 1655241396274,
    "execution_millis": 91,
    "cell_id": "00013-acaaa70e-d4c6-437a-9e2a-78110bf8983f",
    "deepnote_cell_type": "code",
    "deepnote_cell_height": 573.65625
   },
   "source": "to_category=['KIDSDRIV','HOMEKIDS','CLM_FREQ','SEX','JOB','EDUCATION','CAR_TYPE','CAR_USE','URBANICITY']\n\nfor clmn in to_category:\n    train_set[clmn]=train_set[clmn].astype('category')\n\n# Consolidate the column dtypes\ntrain_set=train_set.convert_dtypes()\n\ntrain_set.head()\n",
   "execution_count": 6,
   "outputs": [
    {
     "output_type": "execute_result",
     "execution_count": 6,
     "data": {
      "application/vnd.deepnote.dataframe.v3+json": {
       "column_count": 24,
       "row_count": 5,
       "columns": [
        {
         "name": "TARGET_FLAG",
         "dtype": "Int64",
         "stats": {
          "unique_count": 1,
          "nan_count": 0,
          "categories": [
           {
            "name": "0",
            "count": 5
           }
          ]
         }
        },
        {
         "name": "KIDSDRIV",
         "dtype": "category",
         "stats": {
          "unique_count": 1,
          "nan_count": 0,
          "categories": [
           {
            "name": "0",
            "count": 5
           }
          ]
         }
        },
        {
         "name": "AGE",
         "dtype": "Int64",
         "stats": {
          "unique_count": 5,
          "nan_count": 0,
          "categories": [
           {
            "name": "60",
            "count": 1
           },
           {
            "name": "43",
            "count": 1
           },
           {
            "name": "3 others",
            "count": 3
           }
          ]
         }
        },
        {
         "name": "HOMEKIDS",
         "dtype": "category",
         "stats": {
          "unique_count": 2,
          "nan_count": 0,
          "categories": [
           {
            "name": "0",
            "count": 4
           },
           {
            "name": "1",
            "count": 1
           }
          ]
         }
        },
        {
         "name": "YOJ",
         "dtype": "Int64",
         "stats": {
          "unique_count": 3,
          "nan_count": 1,
          "categories": [
           {
            "name": "11",
            "count": 2
           },
           {
            "name": "2 others",
            "count": 2
           },
           {
            "name": "Missing",
            "count": 1
           }
          ]
         }
        },
        {
         "name": "INCOME",
         "dtype": "Int64",
         "stats": {
          "unique_count": 4,
          "nan_count": 1,
          "categories": [
           {
            "name": "67349",
            "count": 1
           },
           {
            "name": "3 others",
            "count": 3
           },
           {
            "name": "Missing",
            "count": 1
           }
          ]
         }
        },
        {
         "name": "PARENT1",
         "dtype": "boolean",
         "stats": {
          "unique_count": 1,
          "nan_count": 0,
          "categories": [
           {
            "name": "False",
            "count": 5
           }
          ]
         }
        },
        {
         "name": "HOME_VAL",
         "dtype": "Int64",
         "stats": {
          "unique_count": 5,
          "nan_count": 0,
          "categories": [
           {
            "name": "0",
            "count": 1
           },
           {
            "name": "257252",
            "count": 1
           },
           {
            "name": "3 others",
            "count": 3
           }
          ]
         }
        },
        {
         "name": "MSTATUS",
         "dtype": "boolean",
         "stats": {
          "unique_count": 2,
          "nan_count": 0,
          "categories": [
           {
            "name": "True",
            "count": 3
           },
           {
            "name": "False",
            "count": 2
           }
          ]
         }
        },
        {
         "name": "SEX",
         "dtype": "category",
         "stats": {
          "unique_count": 2,
          "nan_count": 0,
          "categories": [
           {
            "name": "M",
            "count": 3
           },
           {
            "name": "F",
            "count": 2
           }
          ]
         }
        },
        {
         "name": "EDUCATION",
         "dtype": "category",
         "stats": {
          "unique_count": 3,
          "nan_count": 0,
          "categories": [
           {
            "name": "PhD",
            "count": 2
           },
           {
            "name": "High School",
            "count": 2
           },
           {
            "name": "<High School",
            "count": 1
           }
          ]
         }
        },
        {
         "name": "JOB",
         "dtype": "category",
         "stats": {
          "unique_count": 4,
          "nan_count": 0,
          "categories": [
           {
            "name": "Blue Collar",
            "count": 2
           },
           {
            "name": "Professional",
            "count": 1
           },
           {
            "name": "2 others",
            "count": 2
           }
          ]
         }
        },
        {
         "name": "TRAVTIME",
         "dtype": "Int64",
         "stats": {
          "unique_count": 5,
          "nan_count": 0,
          "categories": [
           {
            "name": "14",
            "count": 1
           },
           {
            "name": "22",
            "count": 1
           },
           {
            "name": "3 others",
            "count": 3
           }
          ]
         }
        },
        {
         "name": "CAR_USE",
         "dtype": "category",
         "stats": {
          "unique_count": 2,
          "nan_count": 0,
          "categories": [
           {
            "name": "Private",
            "count": 4
           },
           {
            "name": "Commercial",
            "count": 1
           }
          ]
         }
        },
        {
         "name": "BLUEBOOK",
         "dtype": "Int64",
         "stats": {
          "unique_count": 5,
          "nan_count": 0,
          "categories": [
           {
            "name": "14230",
            "count": 1
           },
           {
            "name": "14940",
            "count": 1
           },
           {
            "name": "3 others",
            "count": 3
           }
          ]
         }
        },
        {
         "name": "TIF",
         "dtype": "Int64",
         "stats": {
          "unique_count": 4,
          "nan_count": 0,
          "categories": [
           {
            "name": "1",
            "count": 2
           },
           {
            "name": "11",
            "count": 1
           },
           {
            "name": "2 others",
            "count": 2
           }
          ]
         }
        },
        {
         "name": "CAR_TYPE",
         "dtype": "category",
         "stats": {
          "unique_count": 2,
          "nan_count": 0,
          "categories": [
           {
            "name": "Minivan",
            "count": 3
           },
           {
            "name": "SUV",
            "count": 2
           }
          ]
         }
        },
        {
         "name": "RED_CAR",
         "dtype": "boolean",
         "stats": {
          "unique_count": 2,
          "nan_count": 0,
          "categories": [
           {
            "name": "True",
            "count": 3
           },
           {
            "name": "False",
            "count": 2
           }
          ]
         }
        },
        {
         "name": "OLDCLAIM",
         "dtype": "Int64",
         "stats": {
          "unique_count": 4,
          "nan_count": 0,
          "categories": [
           {
            "name": "0",
            "count": 2
           },
           {
            "name": "4461",
            "count": 1
           },
           {
            "name": "2 others",
            "count": 2
           }
          ]
         }
        },
        {
         "name": "CLM_FREQ",
         "dtype": "category",
         "stats": {
          "unique_count": 2,
          "nan_count": 0,
          "categories": [
           {
            "name": "2",
            "count": 3
           },
           {
            "name": "0",
            "count": 2
           }
          ]
         }
        },
        {
         "name": "REVOKED",
         "dtype": "boolean",
         "stats": {
          "unique_count": 2,
          "nan_count": 0,
          "categories": [
           {
            "name": "False",
            "count": 4
           },
           {
            "name": "True",
            "count": 1
           }
          ]
         }
        },
        {
         "name": "MVR_PTS",
         "dtype": "Int64",
         "stats": {
          "unique_count": 2,
          "nan_count": 0,
          "categories": [
           {
            "name": "3",
            "count": 3
           },
           {
            "name": "0",
            "count": 2
           }
          ]
         }
        },
        {
         "name": "CAR_AGE",
         "dtype": "Int64",
         "stats": {
          "unique_count": 5,
          "nan_count": 0,
          "categories": [
           {
            "name": "18",
            "count": 1
           },
           {
            "name": "1",
            "count": 1
           },
           {
            "name": "3 others",
            "count": 3
           }
          ]
         }
        },
        {
         "name": "URBANICITY",
         "dtype": "category",
         "stats": {
          "unique_count": 1,
          "nan_count": 0,
          "categories": [
           {
            "name": "Highly Urban/ Urban",
            "count": 5
           }
          ]
         }
        },
        {
         "name": "_deepnote_index_column",
         "dtype": "int64"
        }
       ],
       "rows": [
        {
         "TARGET_FLAG": 0,
         "KIDSDRIV": 0,
         "AGE": 60,
         "HOMEKIDS": 0,
         "YOJ": "11",
         "INCOME": "67349",
         "PARENT1": "False",
         "HOME_VAL": 0,
         "MSTATUS": "False",
         "SEX": "M",
         "EDUCATION": "PhD",
         "JOB": "Professional",
         "TRAVTIME": 14,
         "CAR_USE": "Private",
         "BLUEBOOK": 14230,
         "TIF": 11,
         "CAR_TYPE": "Minivan",
         "RED_CAR": "True",
         "OLDCLAIM": 4461,
         "CLM_FREQ": 2,
         "REVOKED": "False",
         "MVR_PTS": 3,
         "CAR_AGE": 18,
         "URBANICITY": "Highly Urban/ Urban",
         "_deepnote_index_column": 1
        },
        {
         "TARGET_FLAG": 0,
         "KIDSDRIV": 0,
         "AGE": 43,
         "HOMEKIDS": 0,
         "YOJ": "11",
         "INCOME": "91449",
         "PARENT1": "False",
         "HOME_VAL": 257252,
         "MSTATUS": "False",
         "SEX": "M",
         "EDUCATION": "High School",
         "JOB": "Blue Collar",
         "TRAVTIME": 22,
         "CAR_USE": "Commercial",
         "BLUEBOOK": 14940,
         "TIF": 1,
         "CAR_TYPE": "Minivan",
         "RED_CAR": "True",
         "OLDCLAIM": 0,
         "CLM_FREQ": 0,
         "REVOKED": "False",
         "MVR_PTS": 0,
         "CAR_AGE": 1,
         "URBANICITY": "Highly Urban/ Urban",
         "_deepnote_index_column": 2
        },
        {
         "TARGET_FLAG": 0,
         "KIDSDRIV": 0,
         "AGE": 35,
         "HOMEKIDS": 1,
         "YOJ": "10",
         "INCOME": "16039",
         "PARENT1": "False",
         "HOME_VAL": 124191,
         "MSTATUS": "True",
         "SEX": "F",
         "EDUCATION": "High School",
         "JOB": "Clerical",
         "TRAVTIME": 5,
         "CAR_USE": "Private",
         "BLUEBOOK": 4010,
         "TIF": 4,
         "CAR_TYPE": "SUV",
         "RED_CAR": "False",
         "OLDCLAIM": 38690,
         "CLM_FREQ": 2,
         "REVOKED": "False",
         "MVR_PTS": 3,
         "CAR_AGE": 10,
         "URBANICITY": "Highly Urban/ Urban",
         "_deepnote_index_column": 4
        },
        {
         "TARGET_FLAG": 0,
         "KIDSDRIV": 0,
         "AGE": 51,
         "HOMEKIDS": 0,
         "YOJ": "14",
         "INCOME": "<NA>",
         "PARENT1": "False",
         "HOME_VAL": 306251,
         "MSTATUS": "True",
         "SEX": "M",
         "EDUCATION": "<High School",
         "JOB": "Blue Collar",
         "TRAVTIME": 32,
         "CAR_USE": "Private",
         "BLUEBOOK": 15440,
         "TIF": 7,
         "CAR_TYPE": "Minivan",
         "RED_CAR": "True",
         "OLDCLAIM": 0,
         "CLM_FREQ": 0,
         "REVOKED": "False",
         "MVR_PTS": 0,
         "CAR_AGE": 6,
         "URBANICITY": "Highly Urban/ Urban",
         "_deepnote_index_column": 5
        },
        {
         "TARGET_FLAG": 0,
         "KIDSDRIV": 0,
         "AGE": 50,
         "HOMEKIDS": 0,
         "YOJ": "<NA>",
         "INCOME": "114986",
         "PARENT1": "False",
         "HOME_VAL": 243925,
         "MSTATUS": "True",
         "SEX": "F",
         "EDUCATION": "PhD",
         "JOB": "Doctor",
         "TRAVTIME": 36,
         "CAR_USE": "Private",
         "BLUEBOOK": 18000,
         "TIF": 1,
         "CAR_TYPE": "SUV",
         "RED_CAR": "False",
         "OLDCLAIM": 19217,
         "CLM_FREQ": 2,
         "REVOKED": "True",
         "MVR_PTS": 3,
         "CAR_AGE": 17,
         "URBANICITY": "Highly Urban/ Urban",
         "_deepnote_index_column": 6
        }
       ]
      },
      "text/plain": "       TARGET_FLAG KIDSDRIV  AGE HOMEKIDS   YOJ  INCOME  PARENT1  HOME_VAL  \\\nINDEX                                                                        \n1                0        0   60        0    11   67349    False         0   \n2                0        0   43        0    11   91449    False    257252   \n4                0        0   35        1    10   16039    False    124191   \n5                0        0   51        0    14    <NA>    False    306251   \n6                0        0   50        0  <NA>  114986    False    243925   \n\n       MSTATUS SEX  ... BLUEBOOK TIF  CAR_TYPE RED_CAR  OLDCLAIM  CLM_FREQ  \\\nINDEX               ...                                                      \n1        False   M  ...    14230  11   Minivan    True      4461         2   \n2        False   M  ...    14940   1   Minivan    True         0         0   \n4         True   F  ...     4010   4       SUV   False     38690         2   \n5         True   M  ...    15440   7   Minivan    True         0         0   \n6         True   F  ...    18000   1       SUV   False     19217         2   \n\n      REVOKED  MVR_PTS  CAR_AGE           URBANICITY  \nINDEX                                                 \n1       False        3       18  Highly Urban/ Urban  \n2       False        0        1  Highly Urban/ Urban  \n4       False        3       10  Highly Urban/ Urban  \n5       False        0        6  Highly Urban/ Urban  \n6        True        3       17  Highly Urban/ Urban  \n\n[5 rows x 24 columns]",
      "text/html": "<div>\n<style scoped>\n    .dataframe tbody tr th:only-of-type {\n        vertical-align: middle;\n    }\n\n    .dataframe tbody tr th {\n        vertical-align: top;\n    }\n\n    .dataframe thead th {\n        text-align: right;\n    }\n</style>\n<table border=\"1\" class=\"dataframe\">\n  <thead>\n    <tr style=\"text-align: right;\">\n      <th></th>\n      <th>TARGET_FLAG</th>\n      <th>KIDSDRIV</th>\n      <th>AGE</th>\n      <th>HOMEKIDS</th>\n      <th>YOJ</th>\n      <th>INCOME</th>\n      <th>PARENT1</th>\n      <th>HOME_VAL</th>\n      <th>MSTATUS</th>\n      <th>SEX</th>\n      <th>...</th>\n      <th>BLUEBOOK</th>\n      <th>TIF</th>\n      <th>CAR_TYPE</th>\n      <th>RED_CAR</th>\n      <th>OLDCLAIM</th>\n      <th>CLM_FREQ</th>\n      <th>REVOKED</th>\n      <th>MVR_PTS</th>\n      <th>CAR_AGE</th>\n      <th>URBANICITY</th>\n    </tr>\n    <tr>\n      <th>INDEX</th>\n      <th></th>\n      <th></th>\n      <th></th>\n      <th></th>\n      <th></th>\n      <th></th>\n      <th></th>\n      <th></th>\n      <th></th>\n      <th></th>\n      <th></th>\n      <th></th>\n      <th></th>\n      <th></th>\n      <th></th>\n      <th></th>\n      <th></th>\n      <th></th>\n      <th></th>\n      <th></th>\n      <th></th>\n    </tr>\n  </thead>\n  <tbody>\n    <tr>\n      <th>1</th>\n      <td>0</td>\n      <td>0</td>\n      <td>60</td>\n      <td>0</td>\n      <td>11</td>\n      <td>67349</td>\n      <td>False</td>\n      <td>0</td>\n      <td>False</td>\n      <td>M</td>\n      <td>...</td>\n      <td>14230</td>\n      <td>11</td>\n      <td>Minivan</td>\n      <td>True</td>\n      <td>4461</td>\n      <td>2</td>\n      <td>False</td>\n      <td>3</td>\n      <td>18</td>\n      <td>Highly Urban/ Urban</td>\n    </tr>\n    <tr>\n      <th>2</th>\n      <td>0</td>\n      <td>0</td>\n      <td>43</td>\n      <td>0</td>\n      <td>11</td>\n      <td>91449</td>\n      <td>False</td>\n      <td>257252</td>\n      <td>False</td>\n      <td>M</td>\n      <td>...</td>\n      <td>14940</td>\n      <td>1</td>\n      <td>Minivan</td>\n      <td>True</td>\n      <td>0</td>\n      <td>0</td>\n      <td>False</td>\n      <td>0</td>\n      <td>1</td>\n      <td>Highly Urban/ Urban</td>\n    </tr>\n    <tr>\n      <th>4</th>\n      <td>0</td>\n      <td>0</td>\n      <td>35</td>\n      <td>1</td>\n      <td>10</td>\n      <td>16039</td>\n      <td>False</td>\n      <td>124191</td>\n      <td>True</td>\n      <td>F</td>\n      <td>...</td>\n      <td>4010</td>\n      <td>4</td>\n      <td>SUV</td>\n      <td>False</td>\n      <td>38690</td>\n      <td>2</td>\n      <td>False</td>\n      <td>3</td>\n      <td>10</td>\n      <td>Highly Urban/ Urban</td>\n    </tr>\n    <tr>\n      <th>5</th>\n      <td>0</td>\n      <td>0</td>\n      <td>51</td>\n      <td>0</td>\n      <td>14</td>\n      <td>&lt;NA&gt;</td>\n      <td>False</td>\n      <td>306251</td>\n      <td>True</td>\n      <td>M</td>\n      <td>...</td>\n      <td>15440</td>\n      <td>7</td>\n      <td>Minivan</td>\n      <td>True</td>\n      <td>0</td>\n      <td>0</td>\n      <td>False</td>\n      <td>0</td>\n      <td>6</td>\n      <td>Highly Urban/ Urban</td>\n    </tr>\n    <tr>\n      <th>6</th>\n      <td>0</td>\n      <td>0</td>\n      <td>50</td>\n      <td>0</td>\n      <td>&lt;NA&gt;</td>\n      <td>114986</td>\n      <td>False</td>\n      <td>243925</td>\n      <td>True</td>\n      <td>F</td>\n      <td>...</td>\n      <td>18000</td>\n      <td>1</td>\n      <td>SUV</td>\n      <td>False</td>\n      <td>19217</td>\n      <td>2</td>\n      <td>True</td>\n      <td>3</td>\n      <td>17</td>\n      <td>Highly Urban/ Urban</td>\n    </tr>\n  </tbody>\n</table>\n<p>5 rows × 24 columns</p>\n</div>"
     },
     "metadata": {}
    }
   ]
  },
  {
   "cell_type": "code",
   "metadata": {
    "tags": [],
    "deepnote_to_be_reexecuted": false,
    "source_hash": "3813fa5e",
    "execution_start": 1655241396366,
    "execution_millis": 28,
    "cell_id": "00014-bc8398cb-41d8-4b19-9466-941b6dad4cee",
    "deepnote_cell_type": "code",
    "deepnote_cell_height": 701
   },
   "source": "train_set.info()",
   "execution_count": 7,
   "outputs": [
    {
     "name": "stdout",
     "text": "<class 'pandas.core.frame.DataFrame'>\nInt64Index: 8161 entries, 1 to 10302\nData columns (total 24 columns):\n #   Column       Non-Null Count  Dtype   \n---  ------       --------------  -----   \n 0   TARGET_FLAG  8161 non-null   Int64   \n 1   KIDSDRIV     8161 non-null   category\n 2   AGE          8155 non-null   Int64   \n 3   HOMEKIDS     8161 non-null   category\n 4   YOJ          7707 non-null   Int64   \n 5   INCOME       7716 non-null   Int64   \n 6   PARENT1      8161 non-null   boolean \n 7   HOME_VAL     7697 non-null   Int64   \n 8   MSTATUS      8161 non-null   boolean \n 9   SEX          8161 non-null   category\n 10  EDUCATION    8161 non-null   category\n 11  JOB          7635 non-null   category\n 12  TRAVTIME     8161 non-null   Int64   \n 13  CAR_USE      8161 non-null   category\n 14  BLUEBOOK     8161 non-null   Int64   \n 15  TIF          8161 non-null   Int64   \n 16  CAR_TYPE     8161 non-null   category\n 17  RED_CAR      8161 non-null   boolean \n 18  OLDCLAIM     8161 non-null   Int64   \n 19  CLM_FREQ     8161 non-null   category\n 20  REVOKED      8161 non-null   boolean \n 21  MVR_PTS      8161 non-null   Int64   \n 22  CAR_AGE      7651 non-null   Int64   \n 23  URBANICITY   8161 non-null   category\ndtypes: Int64(11), boolean(4), category(9)\nmemory usage: 990.0 KB\n",
     "output_type": "stream"
    }
   ]
  },
  {
   "cell_type": "markdown",
   "source": "### Data Survey",
   "metadata": {
    "formattedRanges": [],
    "tags": [],
    "is_collapsed": false,
    "cell_id": "00015-2a606ef5-34fd-4a61-86a8-dbe2abdaec58",
    "deepnote_cell_type": "text-cell-h3"
   }
  },
  {
   "cell_type": "markdown",
   "source": "After a cleanup, we can assess the data from a statistical point of view: let's start with a basic understanding of the data set and then we will check each type of feature separately.",
   "metadata": {
    "formattedRanges": [],
    "tags": [],
    "is_collapsed": false,
    "cell_id": "00016-a32b19e1-967a-46d9-b252-19149742a6a1",
    "deepnote_cell_type": "text-cell-p"
   }
  },
  {
   "cell_type": "code",
   "metadata": {
    "tags": [],
    "deepnote_to_be_reexecuted": false,
    "source_hash": "62644b3c",
    "execution_start": 1655241396395,
    "execution_millis": 66,
    "cell_id": "00017-4aff04da-4232-4432-a5d6-2fc141b67e18",
    "deepnote_cell_type": "code",
    "deepnote_cell_height": 989
   },
   "source": "#Basic features:\nsample_size, n_features = train_set.shape      \n\nprint(f\"{'Sample size'}: {sample_size}\")\nprint(f\"{'N of Features'}: {n_features-1}\")             #don't count the flags\n\n#How many insurance claims there have been in this dataset?\nprint(f\"{'Percentage of positive samples'}: {sum(target_flags)/sample_size*100:.1f}%\")\nprint(f\"\\n_______________________________________\\n\")\n\n#We check where's missing data:\nfor name, col in train_set.items():\n    nas_pc=sum(pd.isna(col)/sample_size*100)                       #Percentage of NaNs\n    print(f\"{name:<15} {str(col.dtype):<15} {nas_pc:.1f}% NaN\")\n\nprint(f\"\\n_______________________________________\\n\")\n",
   "execution_count": 8,
   "outputs": [
    {
     "name": "stdout",
     "text": "Sample size: 8161\nN of Features: 23\nPercentage of positive samples: 26.4%\n\n_______________________________________\n\nTARGET_FLAG     Int64           0.0% NaN\nKIDSDRIV        category        0.0% NaN\nAGE             Int64           0.1% NaN\nHOMEKIDS        category        0.0% NaN\nYOJ             Int64           5.6% NaN\nINCOME          Int64           5.5% NaN\nPARENT1         boolean         0.0% NaN\nHOME_VAL        Int64           5.7% NaN\nMSTATUS         boolean         0.0% NaN\nSEX             category        0.0% NaN\nEDUCATION       category        0.0% NaN\nJOB             category        6.4% NaN\nTRAVTIME        Int64           0.0% NaN\nCAR_USE         category        0.0% NaN\nBLUEBOOK        Int64           0.0% NaN\nTIF             Int64           0.0% NaN\nCAR_TYPE        category        0.0% NaN\nRED_CAR         boolean         0.0% NaN\nOLDCLAIM        Int64           0.0% NaN\nCLM_FREQ        category        0.0% NaN\nREVOKED         boolean         0.0% NaN\nMVR_PTS         Int64           0.0% NaN\nCAR_AGE         Int64           6.2% NaN\nURBANICITY      category        0.0% NaN\n\n_______________________________________\n\n",
     "output_type": "stream"
    }
   ]
  },
  {
   "cell_type": "markdown",
   "source": "Luckily, only a few columns have missing values, but the percentages are not negligible: this makes us lean towards a more sophisticated inputer, therefore we will use the k-Nearest Neighbor inputer from the scikit-learn package, that computes a value based on all the other dimensions.",
   "metadata": {
    "formattedRanges": [],
    "tags": [],
    "is_collapsed": false,
    "cell_id": "00018-0abcb0cc-e3f3-449c-a17f-3e328d0c0fce",
    "deepnote_cell_type": "text-cell-p"
   }
  },
  {
   "cell_type": "code",
   "metadata": {
    "tags": [],
    "deepnote_to_be_reexecuted": false,
    "source_hash": "9453c992",
    "execution_start": 1655241396510,
    "execution_millis": 1,
    "cell_id": "00019-c81a6e0c-91e0-45ce-a485-beec24af5ba5",
    "deepnote_cell_type": "code",
    "deepnote_cell_height": 81
   },
   "source": "inputer=KNNImputer(missing_values=np.nan, add_indicator=True)",
   "execution_count": 9,
   "outputs": []
  },
  {
   "cell_type": "markdown",
   "source": "Let's have a look to the numerical columns:",
   "metadata": {
    "formattedRanges": [],
    "tags": [],
    "is_collapsed": false,
    "cell_id": "00020-5f68015f-edec-4cba-a1b1-a1439f1854ce",
    "deepnote_cell_type": "text-cell-p"
   }
  },
  {
   "cell_type": "code",
   "metadata": {
    "tags": [],
    "deepnote_to_be_reexecuted": false,
    "source_hash": "a4d94732",
    "execution_start": 1655241396511,
    "execution_millis": 78,
    "cell_id": "00021-0c22182d-1709-4270-839f-4ce1a125a394",
    "deepnote_cell_type": "code",
    "deepnote_cell_height": 616.65625
   },
   "source": "train_set.select_dtypes(int).describe().T",
   "execution_count": 10,
   "outputs": [
    {
     "output_type": "execute_result",
     "execution_count": 10,
     "data": {
      "application/vnd.deepnote.dataframe.v3+json": {
       "column_count": 8,
       "row_count": 11,
       "columns": [
        {
         "name": "count",
         "dtype": "float64",
         "stats": {
          "unique_count": 6,
          "nan_count": 0,
          "min": "7651.0",
          "max": "8161.0",
          "histogram": [
           {
            "bin_start": 7651,
            "bin_end": 7702,
            "count": 2
           },
           {
            "bin_start": 7702,
            "bin_end": 7753,
            "count": 2
           },
           {
            "bin_start": 7753,
            "bin_end": 7804,
            "count": 0
           },
           {
            "bin_start": 7804,
            "bin_end": 7855,
            "count": 0
           },
           {
            "bin_start": 7855,
            "bin_end": 7906,
            "count": 0
           },
           {
            "bin_start": 7906,
            "bin_end": 7957,
            "count": 0
           },
           {
            "bin_start": 7957,
            "bin_end": 8008,
            "count": 0
           },
           {
            "bin_start": 8008,
            "bin_end": 8059,
            "count": 0
           },
           {
            "bin_start": 8059,
            "bin_end": 8110,
            "count": 0
           },
           {
            "bin_start": 8110,
            "bin_end": 8161,
            "count": 7
           }
          ]
         }
        },
        {
         "name": "mean",
         "dtype": "float64",
         "stats": {
          "unique_count": 11,
          "nan_count": 0,
          "min": "0.2638157088592084",
          "max": "154867.2897232688",
          "histogram": [
           {
            "bin_start": 0.2638157088592084,
            "bin_end": 15486.966406464851,
            "count": 8
           },
           {
            "bin_start": 15486.966406464851,
            "bin_end": 30973.668997220844,
            "count": 1
           },
           {
            "bin_start": 30973.668997220844,
            "bin_end": 46460.371587976835,
            "count": 0
           },
           {
            "bin_start": 46460.371587976835,
            "bin_end": 61947.07417873283,
            "count": 1
           },
           {
            "bin_start": 61947.07417873283,
            "bin_end": 77433.77676948883,
            "count": 0
           },
           {
            "bin_start": 77433.77676948883,
            "bin_end": 92920.47936024482,
            "count": 0
           },
           {
            "bin_start": 92920.47936024482,
            "bin_end": 108407.18195100082,
            "count": 0
           },
           {
            "bin_start": 108407.18195100082,
            "bin_end": 123893.88454175681,
            "count": 0
           },
           {
            "bin_start": 123893.88454175681,
            "bin_end": 139380.5871325128,
            "count": 0
           },
           {
            "bin_start": 139380.5871325128,
            "bin_end": 154867.2897232688,
            "count": 1
           }
          ]
         }
        },
        {
         "name": "std",
         "dtype": "float64",
         "stats": {
          "unique_count": 11,
          "nan_count": 0,
          "min": "0.44072755951822185",
          "max": "129123.77457381316",
          "histogram": [
           {
            "bin_start": 0.44072755951822185,
            "bin_end": 12912.774112184883,
            "count": 9
           },
           {
            "bin_start": 12912.774112184883,
            "bin_end": 25825.107496810248,
            "count": 0
           },
           {
            "bin_start": 25825.107496810248,
            "bin_end": 38737.44088143561,
            "count": 0
           },
           {
            "bin_start": 38737.44088143561,
            "bin_end": 51649.77426606097,
            "count": 1
           },
           {
            "bin_start": 51649.77426606097,
            "bin_end": 64562.10765068634,
            "count": 0
           },
           {
            "bin_start": 64562.10765068634,
            "bin_end": 77474.4410353117,
            "count": 0
           },
           {
            "bin_start": 77474.4410353117,
            "bin_end": 90386.77441993706,
            "count": 0
           },
           {
            "bin_start": 90386.77441993706,
            "bin_end": 103299.10780456243,
            "count": 0
           },
           {
            "bin_start": 103299.10780456243,
            "bin_end": 116211.4411891878,
            "count": 0
           },
           {
            "bin_start": 116211.4411891878,
            "bin_end": 129123.77457381316,
            "count": 1
           }
          ]
         }
        },
        {
         "name": "min",
         "dtype": "float64",
         "stats": {
          "unique_count": 6,
          "nan_count": 0,
          "min": "-3.0",
          "max": "1500.0",
          "histogram": [
           {
            "bin_start": -3,
            "bin_end": 147.3,
            "count": 10
           },
           {
            "bin_start": 147.3,
            "bin_end": 297.6,
            "count": 0
           },
           {
            "bin_start": 297.6,
            "bin_end": 447.90000000000003,
            "count": 0
           },
           {
            "bin_start": 447.90000000000003,
            "bin_end": 598.2,
            "count": 0
           },
           {
            "bin_start": 598.2,
            "bin_end": 748.5,
            "count": 0
           },
           {
            "bin_start": 748.5,
            "bin_end": 898.8000000000001,
            "count": 0
           },
           {
            "bin_start": 898.8000000000001,
            "bin_end": 1049.1000000000001,
            "count": 0
           },
           {
            "bin_start": 1049.1000000000001,
            "bin_end": 1199.4,
            "count": 0
           },
           {
            "bin_start": 1199.4,
            "bin_end": 1349.7,
            "count": 0
           },
           {
            "bin_start": 1349.7,
            "bin_end": 1500,
            "count": 1
           }
          ]
         }
        },
        {
         "name": "25%",
         "dtype": "float64",
         "stats": {
          "unique_count": 7,
          "nan_count": 0,
          "min": "0.0",
          "max": "28097.0",
          "histogram": [
           {
            "bin_start": 0,
            "bin_end": 2809.7,
            "count": 9
           },
           {
            "bin_start": 2809.7,
            "bin_end": 5619.4,
            "count": 0
           },
           {
            "bin_start": 5619.4,
            "bin_end": 8429.099999999999,
            "count": 0
           },
           {
            "bin_start": 8429.099999999999,
            "bin_end": 11238.8,
            "count": 1
           },
           {
            "bin_start": 11238.8,
            "bin_end": 14048.5,
            "count": 0
           },
           {
            "bin_start": 14048.5,
            "bin_end": 16858.199999999997,
            "count": 0
           },
           {
            "bin_start": 16858.199999999997,
            "bin_end": 19667.899999999998,
            "count": 0
           },
           {
            "bin_start": 19667.899999999998,
            "bin_end": 22477.6,
            "count": 0
           },
           {
            "bin_start": 22477.6,
            "bin_end": 25287.3,
            "count": 0
           },
           {
            "bin_start": 25287.3,
            "bin_end": 28097,
            "count": 1
           }
          ]
         }
        },
        {
         "name": "50%",
         "dtype": "float64",
         "stats": {
          "unique_count": 10,
          "nan_count": 0,
          "min": "0.0",
          "max": "161160.0",
          "histogram": [
           {
            "bin_start": 0,
            "bin_end": 16116,
            "count": 9
           },
           {
            "bin_start": 16116,
            "bin_end": 32232,
            "count": 0
           },
           {
            "bin_start": 32232,
            "bin_end": 48348,
            "count": 0
           },
           {
            "bin_start": 48348,
            "bin_end": 64464,
            "count": 1
           },
           {
            "bin_start": 64464,
            "bin_end": 80580,
            "count": 0
           },
           {
            "bin_start": 80580,
            "bin_end": 96696,
            "count": 0
           },
           {
            "bin_start": 96696,
            "bin_end": 112812,
            "count": 0
           },
           {
            "bin_start": 112812,
            "bin_end": 128928,
            "count": 0
           },
           {
            "bin_start": 128928,
            "bin_end": 145044,
            "count": 0
           },
           {
            "bin_start": 145044,
            "bin_end": 161160,
            "count": 1
           }
          ]
         }
        },
        {
         "name": "75%",
         "dtype": "float64",
         "stats": {
          "unique_count": 11,
          "nan_count": 0,
          "min": "1.0",
          "max": "238724.0",
          "histogram": [
           {
            "bin_start": 1,
            "bin_end": 23873.3,
            "count": 9
           },
           {
            "bin_start": 23873.3,
            "bin_end": 47745.6,
            "count": 0
           },
           {
            "bin_start": 47745.6,
            "bin_end": 71617.9,
            "count": 0
           },
           {
            "bin_start": 71617.9,
            "bin_end": 95490.2,
            "count": 1
           },
           {
            "bin_start": 95490.2,
            "bin_end": 119362.5,
            "count": 0
           },
           {
            "bin_start": 119362.5,
            "bin_end": 143234.8,
            "count": 0
           },
           {
            "bin_start": 143234.8,
            "bin_end": 167107.1,
            "count": 0
           },
           {
            "bin_start": 167107.1,
            "bin_end": 190979.4,
            "count": 0
           },
           {
            "bin_start": 190979.4,
            "bin_end": 214851.69999999998,
            "count": 0
           },
           {
            "bin_start": 214851.69999999998,
            "bin_end": 238724,
            "count": 1
           }
          ]
         }
        },
        {
         "name": "max",
         "dtype": "float64",
         "stats": {
          "unique_count": 11,
          "nan_count": 0,
          "min": "1.0",
          "max": "885282.0",
          "histogram": [
           {
            "bin_start": 1,
            "bin_end": 88529.1,
            "count": 9
           },
           {
            "bin_start": 88529.1,
            "bin_end": 177057.2,
            "count": 0
           },
           {
            "bin_start": 177057.2,
            "bin_end": 265585.30000000005,
            "count": 0
           },
           {
            "bin_start": 265585.30000000005,
            "bin_end": 354113.4,
            "count": 0
           },
           {
            "bin_start": 354113.4,
            "bin_end": 442641.5,
            "count": 1
           },
           {
            "bin_start": 442641.5,
            "bin_end": 531169.6000000001,
            "count": 0
           },
           {
            "bin_start": 531169.6000000001,
            "bin_end": 619697.7000000001,
            "count": 0
           },
           {
            "bin_start": 619697.7000000001,
            "bin_end": 708225.8,
            "count": 0
           },
           {
            "bin_start": 708225.8,
            "bin_end": 796753.9,
            "count": 0
           },
           {
            "bin_start": 796753.9,
            "bin_end": 885282,
            "count": 1
           }
          ]
         }
        },
        {
         "name": "_deepnote_index_column",
         "dtype": "object"
        }
       ],
       "rows": [
        {
         "count": 8161,
         "mean": 0.2638157088592084,
         "std": 0.44072755951822185,
         "min": 0,
         "25%": 0,
         "50%": 0,
         "75%": 1,
         "max": 1,
         "_deepnote_index_column": "TARGET_FLAG"
        },
        {
         "count": 8155,
         "mean": 44.79031269160024,
         "std": 8.627589455714993,
         "min": 16,
         "25%": 39,
         "50%": 45,
         "75%": 51,
         "max": 81,
         "_deepnote_index_column": "AGE"
        },
        {
         "count": 7707,
         "mean": 10.499286363046581,
         "std": 4.092474182663089,
         "min": 0,
         "25%": 9,
         "50%": 11,
         "75%": 13,
         "max": 23,
         "_deepnote_index_column": "YOJ"
        },
        {
         "count": 7716,
         "mean": 61898.0946086055,
         "std": 47572.68280840082,
         "min": 0,
         "25%": 28097,
         "50%": 54028,
         "75%": 85986,
         "max": 367030,
         "_deepnote_index_column": "INCOME"
        },
        {
         "count": 7697,
         "mean": 154867.2897232688,
         "std": 129123.77457381316,
         "min": 0,
         "25%": 0,
         "50%": 161160,
         "75%": 238724,
         "max": 885282,
         "_deepnote_index_column": "HOME_VAL"
        },
        {
         "count": 8161,
         "mean": 33.48572478862884,
         "std": 15.908333411412434,
         "min": 5,
         "25%": 22,
         "50%": 33,
         "75%": 44,
         "max": 142,
         "_deepnote_index_column": "TRAVTIME"
        },
        {
         "count": 8161,
         "mean": 15709.899522117388,
         "std": 8419.734075472197,
         "min": 1500,
         "25%": 9280,
         "50%": 14440,
         "75%": 20850,
         "max": 69740,
         "_deepnote_index_column": "BLUEBOOK"
        },
        {
         "count": 8161,
         "mean": 5.35130498713393,
         "std": 4.146635309197826,
         "min": 1,
         "25%": 1,
         "50%": 4,
         "75%": 7,
         "max": 25,
         "_deepnote_index_column": "TIF"
        },
        {
         "count": 8161,
         "mean": 4037.0762161499815,
         "std": 8777.139104437798,
         "min": 0,
         "25%": 0,
         "50%": 0,
         "75%": 4636,
         "max": 57037,
         "_deepnote_index_column": "OLDCLAIM"
        },
        {
         "count": 8161,
         "mean": 1.6955030020830781,
         "std": 2.1471117444508745,
         "min": 0,
         "25%": 0,
         "50%": 1,
         "75%": 3,
         "max": 13,
         "_deepnote_index_column": "MVR_PTS"
        }
       ]
      },
      "text/plain": "              count           mean            std     min      25%       50%  \\\nTARGET_FLAG  8161.0       0.263816       0.440728     0.0      0.0       0.0   \nAGE          8155.0      44.790313       8.627589    16.0     39.0      45.0   \nYOJ          7707.0      10.499286       4.092474     0.0      9.0      11.0   \nINCOME       7716.0   61898.094609   47572.682808     0.0  28097.0   54028.0   \nHOME_VAL     7697.0  154867.289723  129123.774574     0.0      0.0  161160.0   \nTRAVTIME     8161.0      33.485725      15.908333     5.0     22.0      33.0   \nBLUEBOOK     8161.0   15709.899522    8419.734075  1500.0   9280.0   14440.0   \nTIF          8161.0       5.351305       4.146635     1.0      1.0       4.0   \nOLDCLAIM     8161.0    4037.076216    8777.139104     0.0      0.0       0.0   \nMVR_PTS      8161.0       1.695503       2.147112     0.0      0.0       1.0   \nCAR_AGE      7651.0       8.328323       5.700742    -3.0      1.0       8.0   \n\n                  75%       max  \nTARGET_FLAG       1.0       1.0  \nAGE              51.0      81.0  \nYOJ              13.0      23.0  \nINCOME        85986.0  367030.0  \nHOME_VAL     238724.0  885282.0  \nTRAVTIME         44.0     142.0  \nBLUEBOOK      20850.0   69740.0  \nTIF               7.0      25.0  \nOLDCLAIM       4636.0   57037.0  \nMVR_PTS           3.0      13.0  \nCAR_AGE          12.0      28.0  ",
      "text/html": "<div>\n<style scoped>\n    .dataframe tbody tr th:only-of-type {\n        vertical-align: middle;\n    }\n\n    .dataframe tbody tr th {\n        vertical-align: top;\n    }\n\n    .dataframe thead th {\n        text-align: right;\n    }\n</style>\n<table border=\"1\" class=\"dataframe\">\n  <thead>\n    <tr style=\"text-align: right;\">\n      <th></th>\n      <th>count</th>\n      <th>mean</th>\n      <th>std</th>\n      <th>min</th>\n      <th>25%</th>\n      <th>50%</th>\n      <th>75%</th>\n      <th>max</th>\n    </tr>\n  </thead>\n  <tbody>\n    <tr>\n      <th>TARGET_FLAG</th>\n      <td>8161.0</td>\n      <td>0.263816</td>\n      <td>0.440728</td>\n      <td>0.0</td>\n      <td>0.0</td>\n      <td>0.0</td>\n      <td>1.0</td>\n      <td>1.0</td>\n    </tr>\n    <tr>\n      <th>AGE</th>\n      <td>8155.0</td>\n      <td>44.790313</td>\n      <td>8.627589</td>\n      <td>16.0</td>\n      <td>39.0</td>\n      <td>45.0</td>\n      <td>51.0</td>\n      <td>81.0</td>\n    </tr>\n    <tr>\n      <th>YOJ</th>\n      <td>7707.0</td>\n      <td>10.499286</td>\n      <td>4.092474</td>\n      <td>0.0</td>\n      <td>9.0</td>\n      <td>11.0</td>\n      <td>13.0</td>\n      <td>23.0</td>\n    </tr>\n    <tr>\n      <th>INCOME</th>\n      <td>7716.0</td>\n      <td>61898.094609</td>\n      <td>47572.682808</td>\n      <td>0.0</td>\n      <td>28097.0</td>\n      <td>54028.0</td>\n      <td>85986.0</td>\n      <td>367030.0</td>\n    </tr>\n    <tr>\n      <th>HOME_VAL</th>\n      <td>7697.0</td>\n      <td>154867.289723</td>\n      <td>129123.774574</td>\n      <td>0.0</td>\n      <td>0.0</td>\n      <td>161160.0</td>\n      <td>238724.0</td>\n      <td>885282.0</td>\n    </tr>\n    <tr>\n      <th>TRAVTIME</th>\n      <td>8161.0</td>\n      <td>33.485725</td>\n      <td>15.908333</td>\n      <td>5.0</td>\n      <td>22.0</td>\n      <td>33.0</td>\n      <td>44.0</td>\n      <td>142.0</td>\n    </tr>\n    <tr>\n      <th>BLUEBOOK</th>\n      <td>8161.0</td>\n      <td>15709.899522</td>\n      <td>8419.734075</td>\n      <td>1500.0</td>\n      <td>9280.0</td>\n      <td>14440.0</td>\n      <td>20850.0</td>\n      <td>69740.0</td>\n    </tr>\n    <tr>\n      <th>TIF</th>\n      <td>8161.0</td>\n      <td>5.351305</td>\n      <td>4.146635</td>\n      <td>1.0</td>\n      <td>1.0</td>\n      <td>4.0</td>\n      <td>7.0</td>\n      <td>25.0</td>\n    </tr>\n    <tr>\n      <th>OLDCLAIM</th>\n      <td>8161.0</td>\n      <td>4037.076216</td>\n      <td>8777.139104</td>\n      <td>0.0</td>\n      <td>0.0</td>\n      <td>0.0</td>\n      <td>4636.0</td>\n      <td>57037.0</td>\n    </tr>\n    <tr>\n      <th>MVR_PTS</th>\n      <td>8161.0</td>\n      <td>1.695503</td>\n      <td>2.147112</td>\n      <td>0.0</td>\n      <td>0.0</td>\n      <td>1.0</td>\n      <td>3.0</td>\n      <td>13.0</td>\n    </tr>\n    <tr>\n      <th>CAR_AGE</th>\n      <td>7651.0</td>\n      <td>8.328323</td>\n      <td>5.700742</td>\n      <td>-3.0</td>\n      <td>1.0</td>\n      <td>8.0</td>\n      <td>12.0</td>\n      <td>28.0</td>\n    </tr>\n  </tbody>\n</table>\n</div>"
     },
     "metadata": {}
    }
   ]
  },
  {
   "cell_type": "markdown",
   "source": "There is a -3 in a column that should intuitively contain only positive values. It's probably a mistake made when that value was filed in the database, but we can't be sure of what if should represent. Since there are some other NaNs, we can add one and let the inputer deal with it.",
   "metadata": {
    "formattedRanges": [],
    "tags": [],
    "is_collapsed": false,
    "cell_id": "00022-84217e38-f2b7-428a-aa19-a6e29fd18f08",
    "deepnote_cell_type": "text-cell-p"
   }
  },
  {
   "cell_type": "code",
   "metadata": {
    "tags": [],
    "deepnote_to_be_reexecuted": false,
    "source_hash": "7eda1222",
    "execution_start": 1655241396588,
    "execution_millis": 2,
    "cell_id": "00023-f9f26e36-0e3d-4e9e-b4cc-ec3e9bf7d138",
    "deepnote_cell_type": "code",
    "deepnote_cell_height": 99
   },
   "source": "train_set.loc[train_set['CAR_AGE'] < 0, 'CAR_AGE'] = pd.NA        \n#Use a slighty more general expression to apply also to the test data, if necessary",
   "execution_count": 11,
   "outputs": []
  },
  {
   "cell_type": "code",
   "metadata": {
    "tags": [],
    "deepnote_to_be_reexecuted": false,
    "source_hash": "80d3cada",
    "execution_start": 1655241396636,
    "execution_millis": 2,
    "cell_id": "00024-384c311e-740d-47d0-90c1-23eda22f1c64",
    "deepnote_cell_type": "code",
    "deepnote_cell_height": 348.375
   },
   "source": "numer_corr=train_set.select_dtypes(int).corr()\nprint(numer_corr['TARGET_FLAG'])",
   "execution_count": 12,
   "outputs": [
    {
     "name": "stdout",
     "text": "TARGET_FLAG    1.000000\nAGE           -0.103217\nYOJ           -0.070512\nINCOME        -0.142008\nHOME_VAL      -0.183737\nTRAVTIME       0.048368\nBLUEBOOK      -0.103383\nTIF           -0.082370\nOLDCLAIM       0.138084\nMVR_PTS        0.219197\nCAR_AGE       -0.100260\nName: TARGET_FLAG, dtype: float64\n",
     "output_type": "stream"
    }
   ]
  },
  {
   "cell_type": "markdown",
   "source": "We'll look at the categorical features of the data set now:",
   "metadata": {
    "formattedRanges": [],
    "tags": [],
    "is_collapsed": false,
    "cell_id": "00025-c0b83718-8692-4e89-a2a4-7b1997a8179b",
    "deepnote_cell_type": "text-cell-p"
   }
  },
  {
   "cell_type": "code",
   "metadata": {
    "tags": [],
    "deepnote_to_be_reexecuted": false,
    "source_hash": "5aa40193",
    "execution_start": 1655241396637,
    "execution_millis": 44,
    "cell_id": "00026-c7d2a61b-d30c-4d13-8e2c-364f650b06cd",
    "deepnote_cell_type": "code",
    "deepnote_cell_height": 559
   },
   "source": "train_set.select_dtypes('category').describe().T",
   "execution_count": 13,
   "outputs": [
    {
     "output_type": "execute_result",
     "execution_count": 13,
     "data": {
      "application/vnd.deepnote.dataframe.v3+json": {
       "column_count": 4,
       "row_count": 9,
       "columns": [
        {
         "name": "count",
         "dtype": "object",
         "stats": {
          "unique_count": 2,
          "nan_count": 0,
          "categories": [
           {
            "name": "8161",
            "count": 8
           },
           {
            "name": "7635",
            "count": 1
           }
          ]
         }
        },
        {
         "name": "unique",
         "dtype": "object",
         "stats": {
          "unique_count": 4,
          "nan_count": 0,
          "categories": [
           {
            "name": "6",
            "count": 3
           },
           {
            "name": "2",
            "count": 3
           },
           {
            "name": "2 others",
            "count": 3
           }
          ]
         }
        },
        {
         "name": "top",
         "dtype": "object",
         "stats": {
          "unique_count": 7,
          "nan_count": 0,
          "categories": [
           {
            "name": "0",
            "count": 3
           },
           {
            "name": "F",
            "count": 1
           },
           {
            "name": "5 others",
            "count": 5
           }
          ]
         }
        },
        {
         "name": "freq",
         "dtype": "object",
         "stats": {
          "unique_count": 9,
          "nan_count": 0,
          "categories": [
           {
            "name": "7180",
            "count": 1
           },
           {
            "name": "5289",
            "count": 1
           },
           {
            "name": "7 others",
            "count": 7
           }
          ]
         }
        },
        {
         "name": "_deepnote_index_column",
         "dtype": "object"
        }
       ],
       "rows": [
        {
         "count": "8161",
         "unique": "5",
         "top": "0",
         "freq": "7180",
         "_deepnote_index_column": "KIDSDRIV"
        },
        {
         "count": "8161",
         "unique": "6",
         "top": "0",
         "freq": "5289",
         "_deepnote_index_column": "HOMEKIDS"
        },
        {
         "count": "8161",
         "unique": "2",
         "top": "F",
         "freq": "4375",
         "_deepnote_index_column": "SEX"
        },
        {
         "count": "8161",
         "unique": "5",
         "top": "High School",
         "freq": "2330",
         "_deepnote_index_column": "EDUCATION"
        },
        {
         "count": "7635",
         "unique": "8",
         "top": "Blue Collar",
         "freq": "1825",
         "_deepnote_index_column": "JOB"
        },
        {
         "count": "8161",
         "unique": "2",
         "top": "Private",
         "freq": "5132",
         "_deepnote_index_column": "CAR_USE"
        },
        {
         "count": "8161",
         "unique": "6",
         "top": "SUV",
         "freq": "2294",
         "_deepnote_index_column": "CAR_TYPE"
        },
        {
         "count": "8161",
         "unique": "6",
         "top": "0",
         "freq": "5009",
         "_deepnote_index_column": "CLM_FREQ"
        },
        {
         "count": "8161",
         "unique": "2",
         "top": "Highly Urban/ Urban",
         "freq": "6492",
         "_deepnote_index_column": "URBANICITY"
        }
       ]
      },
      "text/plain": "           count unique                  top  freq\nKIDSDRIV    8161      5                    0  7180\nHOMEKIDS    8161      6                    0  5289\nSEX         8161      2                    F  4375\nEDUCATION   8161      5          High School  2330\nJOB         7635      8          Blue Collar  1825\nCAR_USE     8161      2              Private  5132\nCAR_TYPE    8161      6                  SUV  2294\nCLM_FREQ    8161      6                    0  5009\nURBANICITY  8161      2  Highly Urban/ Urban  6492",
      "text/html": "<div>\n<style scoped>\n    .dataframe tbody tr th:only-of-type {\n        vertical-align: middle;\n    }\n\n    .dataframe tbody tr th {\n        vertical-align: top;\n    }\n\n    .dataframe thead th {\n        text-align: right;\n    }\n</style>\n<table border=\"1\" class=\"dataframe\">\n  <thead>\n    <tr style=\"text-align: right;\">\n      <th></th>\n      <th>count</th>\n      <th>unique</th>\n      <th>top</th>\n      <th>freq</th>\n    </tr>\n  </thead>\n  <tbody>\n    <tr>\n      <th>KIDSDRIV</th>\n      <td>8161</td>\n      <td>5</td>\n      <td>0</td>\n      <td>7180</td>\n    </tr>\n    <tr>\n      <th>HOMEKIDS</th>\n      <td>8161</td>\n      <td>6</td>\n      <td>0</td>\n      <td>5289</td>\n    </tr>\n    <tr>\n      <th>SEX</th>\n      <td>8161</td>\n      <td>2</td>\n      <td>F</td>\n      <td>4375</td>\n    </tr>\n    <tr>\n      <th>EDUCATION</th>\n      <td>8161</td>\n      <td>5</td>\n      <td>High School</td>\n      <td>2330</td>\n    </tr>\n    <tr>\n      <th>JOB</th>\n      <td>7635</td>\n      <td>8</td>\n      <td>Blue Collar</td>\n      <td>1825</td>\n    </tr>\n    <tr>\n      <th>CAR_USE</th>\n      <td>8161</td>\n      <td>2</td>\n      <td>Private</td>\n      <td>5132</td>\n    </tr>\n    <tr>\n      <th>CAR_TYPE</th>\n      <td>8161</td>\n      <td>6</td>\n      <td>SUV</td>\n      <td>2294</td>\n    </tr>\n    <tr>\n      <th>CLM_FREQ</th>\n      <td>8161</td>\n      <td>6</td>\n      <td>0</td>\n      <td>5009</td>\n    </tr>\n    <tr>\n      <th>URBANICITY</th>\n      <td>8161</td>\n      <td>2</td>\n      <td>Highly Urban/ Urban</td>\n      <td>6492</td>\n    </tr>\n  </tbody>\n</table>\n</div>"
     },
     "metadata": {}
    }
   ]
  },
  {
   "cell_type": "markdown",
   "source": "Given the greatest number of unique values is only 8, a one-hot encoding for each of these variables is warranted. ",
   "metadata": {
    "formattedRanges": [],
    "tags": [],
    "is_collapsed": false,
    "cell_id": "00027-3b08be71-45ec-41ee-9f6d-e24d06ef66bc",
    "deepnote_cell_type": "text-cell-p"
   }
  },
  {
   "cell_type": "markdown",
   "source": "Now the boolean values:",
   "metadata": {
    "formattedRanges": [],
    "tags": [],
    "is_collapsed": false,
    "cell_id": "00028-7773ad3d-1f13-44ae-a890-18c08082e949",
    "deepnote_cell_type": "text-cell-p"
   }
  },
  {
   "cell_type": "code",
   "metadata": {
    "tags": [],
    "deepnote_to_be_reexecuted": false,
    "source_hash": "a02e8dd2",
    "execution_start": 1655241396681,
    "execution_millis": 50,
    "cell_id": "00029-cd9ce7b6-13b6-4ec3-860e-88e510b8e0eb",
    "deepnote_cell_type": "code",
    "deepnote_cell_height": 354
   },
   "source": "train_set.select_dtypes(bool).describe().T",
   "execution_count": 14,
   "outputs": [
    {
     "output_type": "execute_result",
     "execution_count": 14,
     "data": {
      "application/vnd.deepnote.dataframe.v3+json": {
       "column_count": 4,
       "row_count": 4,
       "columns": [
        {
         "name": "count",
         "dtype": "object",
         "stats": {
          "unique_count": 1,
          "nan_count": 0,
          "categories": [
           {
            "name": "8161",
            "count": 4
           }
          ]
         }
        },
        {
         "name": "unique",
         "dtype": "object",
         "stats": {
          "unique_count": 1,
          "nan_count": 0,
          "categories": [
           {
            "name": "2",
            "count": 4
           }
          ]
         }
        },
        {
         "name": "top",
         "dtype": "object",
         "stats": {
          "unique_count": 2,
          "nan_count": 0,
          "categories": [
           {
            "name": "False",
            "count": 3
           },
           {
            "name": "True",
            "count": 1
           }
          ]
         }
        },
        {
         "name": "freq",
         "dtype": "object",
         "stats": {
          "unique_count": 4,
          "nan_count": 0,
          "categories": [
           {
            "name": "7084",
            "count": 1
           },
           {
            "name": "4894",
            "count": 1
           },
           {
            "name": "2 others",
            "count": 2
           }
          ]
         }
        },
        {
         "name": "_deepnote_index_column",
         "dtype": "object"
        }
       ],
       "rows": [
        {
         "count": "8161",
         "unique": "2",
         "top": "False",
         "freq": "7084",
         "_deepnote_index_column": "PARENT1"
        },
        {
         "count": "8161",
         "unique": "2",
         "top": "True",
         "freq": "4894",
         "_deepnote_index_column": "MSTATUS"
        },
        {
         "count": "8161",
         "unique": "2",
         "top": "False",
         "freq": "5783",
         "_deepnote_index_column": "RED_CAR"
        },
        {
         "count": "8161",
         "unique": "2",
         "top": "False",
         "freq": "7161",
         "_deepnote_index_column": "REVOKED"
        }
       ]
      },
      "text/plain": "        count unique    top  freq\nPARENT1  8161      2  False  7084\nMSTATUS  8161      2   True  4894\nRED_CAR  8161      2  False  5783\nREVOKED  8161      2  False  7161",
      "text/html": "<div>\n<style scoped>\n    .dataframe tbody tr th:only-of-type {\n        vertical-align: middle;\n    }\n\n    .dataframe tbody tr th {\n        vertical-align: top;\n    }\n\n    .dataframe thead th {\n        text-align: right;\n    }\n</style>\n<table border=\"1\" class=\"dataframe\">\n  <thead>\n    <tr style=\"text-align: right;\">\n      <th></th>\n      <th>count</th>\n      <th>unique</th>\n      <th>top</th>\n      <th>freq</th>\n    </tr>\n  </thead>\n  <tbody>\n    <tr>\n      <th>PARENT1</th>\n      <td>8161</td>\n      <td>2</td>\n      <td>False</td>\n      <td>7084</td>\n    </tr>\n    <tr>\n      <th>MSTATUS</th>\n      <td>8161</td>\n      <td>2</td>\n      <td>True</td>\n      <td>4894</td>\n    </tr>\n    <tr>\n      <th>RED_CAR</th>\n      <td>8161</td>\n      <td>2</td>\n      <td>False</td>\n      <td>5783</td>\n    </tr>\n    <tr>\n      <th>REVOKED</th>\n      <td>8161</td>\n      <td>2</td>\n      <td>False</td>\n      <td>7161</td>\n    </tr>\n  </tbody>\n</table>\n</div>"
     },
     "metadata": {}
    }
   ]
  },
  {
   "cell_type": "markdown",
   "source": "We can only remark that three out of four categories are highly polarized, but intuitively it makes sense given the features' names. We will have to be careful with our choice of performance metrics when the testing phase begins. ",
   "metadata": {
    "formattedRanges": [],
    "tags": [],
    "is_collapsed": false,
    "cell_id": "00030-2b338fce-a822-474b-9174-89f82a64e96a",
    "deepnote_cell_type": "text-cell-p"
   }
  },
  {
   "cell_type": "markdown",
   "source": "Lastly, a routine check of the correlation of the features with the target flags reveal the small statistical significance of each of our column, possibly justifying the machile learning approach.",
   "metadata": {
    "formattedRanges": [],
    "tags": [],
    "is_collapsed": false,
    "cell_id": "00031-c9b8549a-ecb8-4894-bfa5-d8184b568411",
    "deepnote_cell_type": "text-cell-p"
   }
  },
  {
   "cell_type": "code",
   "metadata": {
    "tags": [],
    "deepnote_to_be_reexecuted": false,
    "source_hash": "9dbc0d87",
    "execution_start": 1655241396729,
    "execution_millis": 3,
    "cell_id": "00032-b0eae82c-d510-4f82-9e5f-34e0e24a0cbf",
    "deepnote_cell_type": "code",
    "deepnote_cell_height": 424.15625,
    "deepnote_output_heights": [
     309.15625
    ]
   },
   "source": "corr=train_set.corr()\ncorr['TARGET_FLAG']",
   "execution_count": 15,
   "outputs": [
    {
     "output_type": "execute_result",
     "execution_count": 15,
     "data": {
      "text/plain": "TARGET_FLAG    1.000000\nAGE           -0.103217\nYOJ           -0.070512\nINCOME        -0.142008\nPARENT1        0.157622\nHOME_VAL      -0.183737\nMSTATUS       -0.135125\nTRAVTIME       0.048368\nBLUEBOOK      -0.103383\nTIF           -0.082370\nRED_CAR       -0.006947\nOLDCLAIM       0.138084\nREVOKED        0.151939\nMVR_PTS        0.219197\nCAR_AGE       -0.100260\nName: TARGET_FLAG, dtype: float64"
     },
     "metadata": {}
    }
   ]
  },
  {
   "cell_type": "markdown",
   "source": "The final step is to prepare the set to be understood by the classifiers, one-hot encoding the categorical columns :",
   "metadata": {
    "formattedRanges": [],
    "tags": [],
    "is_collapsed": false,
    "cell_id": "00033-a4c5e14b-d7fe-492c-a6bf-1f4cee341ac3",
    "deepnote_cell_type": "text-cell-p"
   }
  },
  {
   "cell_type": "code",
   "metadata": {
    "tags": [],
    "deepnote_to_be_reexecuted": false,
    "source_hash": "788803db",
    "execution_start": 1655241396772,
    "execution_millis": 3,
    "cell_id": "00034-ddb2432b-fa19-4d3f-90a5-40ce1966d0fc",
    "deepnote_cell_type": "code",
    "deepnote_cell_height": 219.859375
   },
   "source": "train_set=train_set.drop(columns='TARGET_FLAG')            #drop the target flag before the input\nprint(train_set.shape)\n\ncolumn_transformer=make_column_transformer(\n    (OneHotEncoder(drop='if_binary', sparse=False), make_column_selector(dtype_include='category')),    #OHE for the categories\n    (StandardScaler(), make_column_selector(dtype_exclude='category'))                                  #Normal scaling for the rest\n)",
   "execution_count": 16,
   "outputs": [
    {
     "name": "stdout",
     "text": "(8161, 23)\n",
     "output_type": "stream"
    }
   ]
  },
  {
   "cell_type": "markdown",
   "source": "## 3.Algorithm testing",
   "metadata": {
    "formattedRanges": [],
    "tags": [],
    "is_collapsed": false,
    "cell_id": "00035-8f87a9e8-bcf0-40d4-81f7-79b33afb5f1b",
    "deepnote_cell_type": "text-cell-h2"
   }
  },
  {
   "cell_type": "markdown",
   "source": "### Performance metrics",
   "metadata": {
    "formattedRanges": [],
    "tags": [],
    "is_collapsed": false,
    "cell_id": "00036-f3417933-2be0-42aa-ac3e-44863779a10c",
    "deepnote_cell_type": "text-cell-h3"
   }
  },
  {
   "cell_type": "markdown",
   "source": "The usual performance metrics for classification algorithms are Recall, F1 score, Precision and Accuracy. While Accuracy is usually the most utilized, in the case of this dataset with mostly negative samples, it will tend to skew the evaluation toward negative flags, and given the context of insurance claims, it's probably better to give it a slightly lower weight in our evaluation. On the other end of the spectrum, Recall might result in more false positives, but ensures we give the utmost importance to true positives we might miss, so it should be considered more than usual. In any case, we should evaluate all of them together when considering the right algorithm.",
   "metadata": {
    "formattedRanges": [],
    "tags": [],
    "is_collapsed": false,
    "cell_id": "00037-6a6aa820-8b99-45ff-b461-2a638f58b614",
    "deepnote_cell_type": "text-cell-p"
   }
  },
  {
   "cell_type": "code",
   "metadata": {
    "tags": [],
    "deepnote_to_be_reexecuted": false,
    "source_hash": "5043d214",
    "execution_start": 1655241396773,
    "execution_millis": 0,
    "cell_id": "00038-4d4153ce-079c-4676-babc-bef02de7f8f8",
    "deepnote_cell_type": "code",
    "deepnote_cell_height": 81
   },
   "source": "perf_metrics=['recall','f1','precision','accuracy']",
   "execution_count": 17,
   "outputs": []
  },
  {
   "cell_type": "markdown",
   "source": "### Classifiers",
   "metadata": {
    "formattedRanges": [],
    "tags": [],
    "is_collapsed": false,
    "cell_id": "00039-47daf12f-dc0f-422f-80dc-ac313bf174a1",
    "deepnote_cell_type": "text-cell-h3"
   }
  },
  {
   "cell_type": "markdown",
   "source": "Our dataset is on the smaller side with respect to the amount of data a typical machine learning, and the best classifiers the scikit-learn package offers in these cases are: Random Forest of Decision Trees (Extra trees on top), Support Vector Classification (Given our number of features, the linear one schould yield good results) and the Histogram-based Gradient Boosting Classifier (much faster than the regular version). ",
   "metadata": {
    "formattedRanges": [],
    "tags": [],
    "is_collapsed": false,
    "cell_id": "00040-5dc83018-df81-4504-900e-8cc587f96df6",
    "deepnote_cell_type": "text-cell-p"
   }
  },
  {
   "cell_type": "markdown",
   "source": "For each of this classifying methods, we will build a pipeline of scaler, inputer and classifier and compare the results of their performance metric scores in a standard 10-fold cross-validation test. The default 10-fold is fine for this dataset size, using around 820 entries for the testing and 7400 for the training.",
   "metadata": {
    "formattedRanges": [],
    "tags": [],
    "is_collapsed": false,
    "cell_id": "00041-a176ab58-40b2-4166-b580-805fb0c1e94e",
    "deepnote_cell_type": "text-cell-p"
   }
  },
  {
   "cell_type": "markdown",
   "source": "### Random Forest",
   "metadata": {
    "formattedRanges": [],
    "tags": [],
    "is_collapsed": false,
    "cell_id": "00042-6196ab9b-5636-4347-8d49-5be3656560e2",
    "deepnote_cell_type": "text-cell-h3"
   }
  },
  {
   "cell_type": "code",
   "metadata": {
    "tags": [],
    "deepnote_to_be_reexecuted": false,
    "source_hash": "e4c723bd",
    "execution_start": 1655241396773,
    "execution_millis": 39643,
    "cell_id": "00043-099108a7-9262-481a-8da5-9238db32c5e1",
    "deepnote_cell_type": "code",
    "deepnote_cell_height": 333
   },
   "source": "\nRF=ExtraTreesClassifier(\n        n_estimators=150,\n        class_weight='balanced',                     #adjust weights on class frequency\n        n_jobs=-1,                                   #use all processors\n        bootstrap=True,                              #uses samples to build trees\n        oob_score=True,\n        max_samples=0.8\n)\n\nRF_pipe=make_pipeline(column_transformer, inputer, RF)                    #build the pipeline\n\n#Perform the 10-fold cross-validation on the model\nRF_scores=cross_validate(RF_pipe, train_set, target_flags, scoring=perf_metrics, cv=10, n_jobs=-1, return_train_score=True)\n",
   "execution_count": 18,
   "outputs": []
  },
  {
   "cell_type": "code",
   "metadata": {
    "tags": [],
    "deepnote_to_be_reexecuted": false,
    "source_hash": "4fe3f81e",
    "execution_start": 1655241436460,
    "execution_millis": 3,
    "cell_id": "00044-b9540cd3-2d22-4713-88d9-377016c6b461",
    "deepnote_cell_type": "code",
    "deepnote_cell_height": 346.15625,
    "deepnote_output_heights": [
     213.171875
    ]
   },
   "source": "#print the mean results of the cross validation:\nRF_scores_df=pd.DataFrame(RF_scores).mean()\nRF_scores_df",
   "execution_count": 19,
   "outputs": [
    {
     "output_type": "execute_result",
     "execution_count": 19,
     "data": {
      "text/plain": "fit_time           4.507919\nscore_time         0.384645\ntest_recall        0.333945\ntrain_recall       0.998039\ntest_f1            0.442335\ntrain_f1           0.999018\ntest_precision     0.659234\ntrain_precision    1.000000\ntest_accuracy      0.778582\ntrain_accuracy     0.999483\ndtype: float64"
     },
     "metadata": {}
    }
   ]
  },
  {
   "cell_type": "markdown",
   "source": "### LinearSVC",
   "metadata": {
    "formattedRanges": [],
    "tags": [],
    "is_collapsed": false,
    "cell_id": "00045-a27ab44e-cbe0-4dc3-8776-a36f29ff3e22",
    "deepnote_cell_type": "text-cell-h3"
   }
  },
  {
   "cell_type": "code",
   "metadata": {
    "tags": [],
    "deepnote_to_be_reexecuted": false,
    "source_hash": "40f671cd",
    "execution_start": 1655241436461,
    "execution_millis": 32094,
    "cell_id": "00046-8925cc9e-7f5b-42cc-9968-72d433dc6146",
    "deepnote_cell_type": "code",
    "deepnote_cell_height": 243
   },
   "source": "LSVC=LinearSVC(\n        class_weight='balanced',\n        fit_intercept=False,                          #take bias into consideration\n)\n\n#build the pipeline\nLSVC_pipe=make_pipeline(column_transformer, inputer, LSVC)                   \n\n#Perform the 10-fold cross-validation on the model\nLSVC_scores=cross_validate(LSVC_pipe, train_set, target_flags, scoring=perf_metrics, cv=10, n_jobs=-1, return_train_score=True)",
   "execution_count": 20,
   "outputs": []
  },
  {
   "cell_type": "code",
   "metadata": {
    "tags": [],
    "deepnote_to_be_reexecuted": false,
    "source_hash": "ad8377f7",
    "execution_start": 1655241468560,
    "execution_millis": 63,
    "cell_id": "00047-a203b5b1-3690-4b3a-a8f5-f2aeae65621a",
    "deepnote_cell_type": "code",
    "deepnote_cell_height": 346.15625,
    "deepnote_output_heights": [
     213.171875
    ]
   },
   "source": "#print the mean results of the cross validation:\nLSVC_scores_df=pd.DataFrame(LSVC_scores).mean()\nLSVC_scores_df",
   "execution_count": 21,
   "outputs": [
    {
     "output_type": "execute_result",
     "execution_count": 21,
     "data": {
      "text/plain": "fit_time           3.829948\nscore_time         0.266835\ntest_recall        0.757093\ntrain_recall       0.767456\ntest_f1            0.586282\ntrain_f1           0.594672\ntest_precision     0.478667\ntrain_precision    0.485393\ntest_accuracy      0.718047\ntrain_accuracy     0.723999\ndtype: float64"
     },
     "metadata": {}
    }
   ]
  },
  {
   "cell_type": "markdown",
   "source": "### HistogramGradientBoosting",
   "metadata": {
    "formattedRanges": [],
    "tags": [],
    "is_collapsed": false,
    "cell_id": "00048-f295fe58-7eb0-41f1-b4f6-6ebc90b49b6b",
    "deepnote_cell_type": "text-cell-h3"
   }
  },
  {
   "cell_type": "code",
   "metadata": {
    "tags": [],
    "deepnote_to_be_reexecuted": false,
    "source_hash": "7abe62cf",
    "execution_start": 1655241468609,
    "execution_millis": 32667,
    "cell_id": "00049-dea15898-ef0a-4274-9fa9-ac85b66d8abe",
    "deepnote_cell_type": "code",
    "deepnote_cell_height": 189
   },
   "source": "HGB=HistGradientBoostingClassifier()            #default values are fine \n\n#build the pipeline\nHGB_pipe=make_pipeline(column_transformer, inputer, HGB)                   \n\n#Perform the 10-fold cross-validation on the model\nHGB_scores=cross_validate(HGB_pipe, train_set, target_flags, scoring=perf_metrics, cv=10, n_jobs=-1, return_train_score=True)",
   "execution_count": 22,
   "outputs": []
  },
  {
   "cell_type": "code",
   "metadata": {
    "tags": [],
    "deepnote_to_be_reexecuted": false,
    "source_hash": "55793f8a",
    "execution_start": 1655241501283,
    "execution_millis": 15,
    "cell_id": "00050-f8229fca-4d66-4ea0-932b-5d665c67dc01",
    "deepnote_cell_type": "code",
    "deepnote_cell_height": 346.15625,
    "deepnote_output_heights": [
     213.171875
    ]
   },
   "source": "#print the mean results of the cross validation:\nHGB_scores_df=pd.DataFrame(HGB_scores).mean()\nHGB_scores_df",
   "execution_count": 23,
   "outputs": [
    {
     "output_type": "execute_result",
     "execution_count": 23,
     "data": {
      "text/plain": "fit_time           3.828094\nscore_time         0.274859\ntest_recall        0.476550\ntrain_recall       0.706611\ntest_f1            0.553565\ntrain_f1           0.792110\ntest_precision     0.663378\ntrain_precision    0.901177\ntest_accuracy      0.797818\ntrain_accuracy     0.902150\ndtype: float64"
     },
     "metadata": {}
    }
   ]
  },
  {
   "cell_type": "markdown",
   "source": "### Results discussion",
   "metadata": {
    "formattedRanges": [],
    "tags": [],
    "is_collapsed": false,
    "cell_id": "00051-102601a7-fbcd-4e9a-9fce-4c9973da172a",
    "deepnote_cell_type": "text-cell-h3"
   }
  },
  {
   "cell_type": "markdown",
   "source": "Let's group the performance scores on the test samples to have a better understanding of our choices:",
   "metadata": {
    "formattedRanges": [],
    "tags": [],
    "is_collapsed": false,
    "cell_id": "00052-90e45730-a057-4310-b49d-c5a0e18693c3",
    "deepnote_cell_type": "text-cell-p"
   }
  },
  {
   "cell_type": "code",
   "metadata": {
    "tags": [],
    "deepnote_to_be_reexecuted": false,
    "source_hash": "e78ee345",
    "execution_start": 1655241501304,
    "execution_millis": 61,
    "cell_id": "00053-285cdc22-5cf8-4049-bd88-e02a3f6e42bc",
    "deepnote_cell_type": "code",
    "deepnote_cell_height": 618
   },
   "source": "results=pd.concat([RF_scores_df, LSVC_scores_df, HGB_scores_df], axis=1)\nresults",
   "execution_count": 24,
   "outputs": [
    {
     "output_type": "execute_result",
     "execution_count": 24,
     "data": {
      "application/vnd.deepnote.dataframe.v3+json": {
       "column_count": 3,
       "row_count": 10,
       "columns": [
        {
         "name": 0,
         "dtype": "float64",
         "stats": {
          "unique_count": 10,
          "nan_count": 0,
          "min": "0.3339448751076658",
          "max": "4.507919430732727",
          "histogram": [
           {
            "bin_start": 0.3339448751076658,
            "bin_end": 0.7513423306701719,
            "count": 4
           },
           {
            "bin_start": 0.7513423306701719,
            "bin_end": 1.168739786232678,
            "count": 5
           },
           {
            "bin_start": 1.168739786232678,
            "bin_end": 1.5861372417951838,
            "count": 0
           },
           {
            "bin_start": 1.5861372417951838,
            "bin_end": 2.00353469735769,
            "count": 0
           },
           {
            "bin_start": 2.00353469735769,
            "bin_end": 2.420932152920196,
            "count": 0
           },
           {
            "bin_start": 2.420932152920196,
            "bin_end": 2.838329608482702,
            "count": 0
           },
           {
            "bin_start": 2.838329608482702,
            "bin_end": 3.255727064045208,
            "count": 0
           },
           {
            "bin_start": 3.255727064045208,
            "bin_end": 3.6731245196077142,
            "count": 0
           },
           {
            "bin_start": 3.6731245196077142,
            "bin_end": 4.090521975170221,
            "count": 0
           },
           {
            "bin_start": 4.090521975170221,
            "bin_end": 4.507919430732727,
            "count": 1
           }
          ]
         }
        },
        {
         "name": 1,
         "dtype": "float64",
         "stats": {
          "unique_count": 10,
          "nan_count": 0,
          "min": "0.26683523654937746",
          "max": "3.8299482583999636",
          "histogram": [
           {
            "bin_start": 0.26683523654937746,
            "bin_end": 0.6231465387344362,
            "count": 5
           },
           {
            "bin_start": 0.6231465387344362,
            "bin_end": 0.9794578409194947,
            "count": 4
           },
           {
            "bin_start": 0.9794578409194947,
            "bin_end": 1.3357691431045535,
            "count": 0
           },
           {
            "bin_start": 1.3357691431045535,
            "bin_end": 1.692080445289612,
            "count": 0
           },
           {
            "bin_start": 1.692080445289612,
            "bin_end": 2.0483917474746707,
            "count": 0
           },
           {
            "bin_start": 2.0483917474746707,
            "bin_end": 2.4047030496597293,
            "count": 0
           },
           {
            "bin_start": 2.4047030496597293,
            "bin_end": 2.761014351844788,
            "count": 0
           },
           {
            "bin_start": 2.761014351844788,
            "bin_end": 3.1173256540298464,
            "count": 0
           },
           {
            "bin_start": 3.1173256540298464,
            "bin_end": 3.473636956214905,
            "count": 0
           },
           {
            "bin_start": 3.473636956214905,
            "bin_end": 3.8299482583999636,
            "count": 1
           }
          ]
         }
        },
        {
         "name": 2,
         "dtype": "float64",
         "stats": {
          "unique_count": 10,
          "nan_count": 0,
          "min": "0.27485902309417726",
          "max": "3.8280935525894164",
          "histogram": [
           {
            "bin_start": 0.27485902309417726,
            "bin_end": 0.6301824760437011,
            "count": 3
           },
           {
            "bin_start": 0.6301824760437011,
            "bin_end": 0.9855059289932251,
            "count": 6
           },
           {
            "bin_start": 0.9855059289932251,
            "bin_end": 1.3408293819427488,
            "count": 0
           },
           {
            "bin_start": 1.3408293819427488,
            "bin_end": 1.6961528348922728,
            "count": 0
           },
           {
            "bin_start": 1.6961528348922728,
            "bin_end": 2.0514762878417967,
            "count": 0
           },
           {
            "bin_start": 2.0514762878417967,
            "bin_end": 2.4067997407913206,
            "count": 0
           },
           {
            "bin_start": 2.4067997407913206,
            "bin_end": 2.7621231937408446,
            "count": 0
           },
           {
            "bin_start": 2.7621231937408446,
            "bin_end": 3.1174466466903685,
            "count": 0
           },
           {
            "bin_start": 3.1174466466903685,
            "bin_end": 3.4727700996398925,
            "count": 0
           },
           {
            "bin_start": 3.4727700996398925,
            "bin_end": 3.8280935525894164,
            "count": 1
           }
          ]
         }
        },
        {
         "name": "_deepnote_index_column",
         "dtype": "object"
        }
       ],
       "rows": [
        {
         "0": 4.507919430732727,
         "1": 3.8299482583999636,
         "2": 3.8280935525894164,
         "_deepnote_index_column": "fit_time"
        },
        {
         "0": 0.38464515209197997,
         "1": 0.26683523654937746,
         "2": 0.27485902309417726,
         "_deepnote_index_column": "score_time"
        },
        {
         "0": 0.3339448751076658,
         "1": 0.7570930232558138,
         "2": 0.4765503875968992,
         "_deepnote_index_column": "test_recall"
        },
        {
         "0": 0.9980388960192397,
         "1": 0.7674563507983418,
         "2": 0.7066112204194777,
         "_deepnote_index_column": "train_recall"
        },
        {
         "0": 0.44233535659982104,
         "1": 0.5862815729959935,
         "2": 0.5535647344550692,
         "_deepnote_index_column": "test_f1"
        },
        {
         "0": 0.999018301169263,
         "1": 0.5946720008557724,
         "2": 0.7921098382175019,
         "_deepnote_index_column": "train_f1"
        },
        {
         "0": 0.6592339973728996,
         "1": 0.4786669338408657,
         "2": 0.6633778723802422,
         "_deepnote_index_column": "test_precision"
        },
        {
         "0": 1,
         "1": 0.4853934886577654,
         "2": 0.9011767241164831,
         "_deepnote_index_column": "train_precision"
        },
        {
         "0": 0.7785819713442292,
         "1": 0.718047405620755,
         "2": 0.7978184174526604,
         "_deepnote_index_column": "test_accuracy"
        },
        {
         "0": 0.9994826282755748,
         "1": 0.7239989670325433,
         "2": 0.9021498218075521,
         "_deepnote_index_column": "train_accuracy"
        }
       ]
      },
      "text/plain": "                        0         1         2\nfit_time         4.507919  3.829948  3.828094\nscore_time       0.384645  0.266835  0.274859\ntest_recall      0.333945  0.757093  0.476550\ntrain_recall     0.998039  0.767456  0.706611\ntest_f1          0.442335  0.586282  0.553565\ntrain_f1         0.999018  0.594672  0.792110\ntest_precision   0.659234  0.478667  0.663378\ntrain_precision  1.000000  0.485393  0.901177\ntest_accuracy    0.778582  0.718047  0.797818\ntrain_accuracy   0.999483  0.723999  0.902150",
      "text/html": "<div>\n<style scoped>\n    .dataframe tbody tr th:only-of-type {\n        vertical-align: middle;\n    }\n\n    .dataframe tbody tr th {\n        vertical-align: top;\n    }\n\n    .dataframe thead th {\n        text-align: right;\n    }\n</style>\n<table border=\"1\" class=\"dataframe\">\n  <thead>\n    <tr style=\"text-align: right;\">\n      <th></th>\n      <th>0</th>\n      <th>1</th>\n      <th>2</th>\n    </tr>\n  </thead>\n  <tbody>\n    <tr>\n      <th>fit_time</th>\n      <td>4.507919</td>\n      <td>3.829948</td>\n      <td>3.828094</td>\n    </tr>\n    <tr>\n      <th>score_time</th>\n      <td>0.384645</td>\n      <td>0.266835</td>\n      <td>0.274859</td>\n    </tr>\n    <tr>\n      <th>test_recall</th>\n      <td>0.333945</td>\n      <td>0.757093</td>\n      <td>0.476550</td>\n    </tr>\n    <tr>\n      <th>train_recall</th>\n      <td>0.998039</td>\n      <td>0.767456</td>\n      <td>0.706611</td>\n    </tr>\n    <tr>\n      <th>test_f1</th>\n      <td>0.442335</td>\n      <td>0.586282</td>\n      <td>0.553565</td>\n    </tr>\n    <tr>\n      <th>train_f1</th>\n      <td>0.999018</td>\n      <td>0.594672</td>\n      <td>0.792110</td>\n    </tr>\n    <tr>\n      <th>test_precision</th>\n      <td>0.659234</td>\n      <td>0.478667</td>\n      <td>0.663378</td>\n    </tr>\n    <tr>\n      <th>train_precision</th>\n      <td>1.000000</td>\n      <td>0.485393</td>\n      <td>0.901177</td>\n    </tr>\n    <tr>\n      <th>test_accuracy</th>\n      <td>0.778582</td>\n      <td>0.718047</td>\n      <td>0.797818</td>\n    </tr>\n    <tr>\n      <th>train_accuracy</th>\n      <td>0.999483</td>\n      <td>0.723999</td>\n      <td>0.902150</td>\n    </tr>\n  </tbody>\n</table>\n</div>"
     },
     "metadata": {}
    }
   ]
  },
  {
   "cell_type": "markdown",
   "source": "From the test_ scores we can see that the three models behave quite differently: Random Forest has an abysmal Recall but good Precision and Accuracy, LinearSVC has the highest Recall and the lowest Accuracy, HistoGradBoost is the best in Accuracy but like RF is not great in Recall.",
   "metadata": {
    "formattedRanges": [],
    "tags": [],
    "is_collapsed": false,
    "cell_id": "00054-6a8ff51c-b66c-40a8-8342-a2437e240095",
    "deepnote_cell_type": "text-cell-p"
   }
  },
  {
   "cell_type": "markdown",
   "source": "While the difference in Accuracy might seem unimportant, we have to be conscious that LinearSVC is almos 8% less effective at predicting our target flags than the other two, which is pretty unsustainable. Given its higher Recall and F1 scores, we'll pick the HGB model for our definitive fitting.",
   "metadata": {
    "formattedRanges": [],
    "tags": [],
    "is_collapsed": false,
    "cell_id": "00055-99597a5b-a5df-43a3-a154-2dc1f2bd96f7",
    "deepnote_cell_type": "text-cell-p"
   }
  },
  {
   "cell_type": "markdown",
   "source": "## 4.Fitting and results",
   "metadata": {
    "formattedRanges": [],
    "tags": [],
    "is_collapsed": false,
    "cell_id": "00056-8caf709e-12cb-43df-bc76-352edbd310b0",
    "deepnote_cell_type": "text-cell-h2"
   }
  },
  {
   "cell_type": "markdown",
   "source": "Now we import and preprocess the test set as we did with the training:",
   "metadata": {
    "formattedRanges": [],
    "tags": [],
    "is_collapsed": false,
    "cell_id": "00057-d6f222ed-946e-4700-8051-63d89e25eb3f",
    "deepnote_cell_type": "text-cell-p"
   }
  },
  {
   "cell_type": "code",
   "metadata": {
    "tags": [],
    "deepnote_to_be_reexecuted": false,
    "source_hash": "2a2bf34c",
    "execution_start": 1655241501364,
    "execution_millis": 63,
    "cell_id": "00058-4acca126-3493-4986-8d97-46fec8b682d6",
    "deepnote_cell_type": "code",
    "deepnote_cell_height": 1223
   },
   "source": "#import data\nraw_test=pd.read_csv('test_auto.csv',\n                        index_col='INDEX',\n                        false_values=['no', 'No', 'NO', 'z_No'],\n                        true_values=['yes', 'Yes', 'YES']\n                    )\n\n#drop target columns, that are empty\ntest_set=raw_test.drop(columns={'TARGET_AMT', 'TARGET_FLAG'}) \n\n#clean formatting\nfor sym in ['z_', '$', ',']:\n    test_set = test_set.apply(lambda x: x.str.replace(sym, '') if x.dtype == object else x)\n\n#Fix column categorization\n\nto_numerical=['INCOME', 'HOME_VAL', 'BLUEBOOK', 'OLDCLAIM']\nfor clmn in to_numerical:\n    test_set[clmn]=test_set[clmn].astype(float)\n\nto_category=['KIDSDRIV','HOMEKIDS','CLM_FREQ','SEX','JOB','EDUCATION','CAR_TYPE','CAR_USE','URBANICITY']\nfor clmn in to_category:\n    test_set[clmn]=test_set[clmn].astype('category')\n\n#Consolidate types\ntest_set=test_set.convert_dtypes()\ntest_set.info()\n\n#get sample size\ntest_size, n_features = test_set.shape",
   "execution_count": 25,
   "outputs": [
    {
     "name": "stdout",
     "text": "<class 'pandas.core.frame.DataFrame'>\nInt64Index: 2141 entries, 3 to 10300\nData columns (total 23 columns):\n #   Column      Non-Null Count  Dtype   \n---  ------      --------------  -----   \n 0   KIDSDRIV    2141 non-null   category\n 1   AGE         2140 non-null   Int64   \n 2   HOMEKIDS    2141 non-null   category\n 3   YOJ         2047 non-null   Int64   \n 4   INCOME      2016 non-null   Int64   \n 5   PARENT1     2141 non-null   boolean \n 6   HOME_VAL    2030 non-null   Int64   \n 7   MSTATUS     2141 non-null   boolean \n 8   SEX         2141 non-null   category\n 9   EDUCATION   2141 non-null   category\n 10  JOB         2002 non-null   category\n 11  TRAVTIME    2141 non-null   Int64   \n 12  CAR_USE     2141 non-null   category\n 13  BLUEBOOK    2141 non-null   Int64   \n 14  TIF         2141 non-null   Int64   \n 15  CAR_TYPE    2141 non-null   category\n 16  RED_CAR     2141 non-null   boolean \n 17  OLDCLAIM    2141 non-null   Int64   \n 18  CLM_FREQ    2141 non-null   category\n 19  REVOKED     2141 non-null   boolean \n 20  MVR_PTS     2141 non-null   Int64   \n 21  CAR_AGE     2012 non-null   Int64   \n 22  URBANICITY  2141 non-null   category\ndtypes: Int64(10), boolean(4), category(9)\nmemory usage: 242.2 KB\n<ipython-input-25-636f316ce5e5>:13: FutureWarning: The default value of regex will change from True to False in a future version. In addition, single character regular expressions will*not* be treated as literal strings when regex=True.\n  test_set = test_set.apply(lambda x: x.str.replace(sym, '') if x.dtype == object else x)\n",
     "output_type": "stream"
    }
   ]
  },
  {
   "cell_type": "code",
   "metadata": {
    "cell_id": "1b35dfe5898f400eb74a40c174e1b57a",
    "tags": [],
    "deepnote_to_be_reexecuted": false,
    "source_hash": "900e7126",
    "execution_start": 1655241501427,
    "execution_millis": 2,
    "deepnote_cell_type": "code",
    "deepnote_cell_height": 135
   },
   "source": "column_transformer=make_column_transformer(\n    (StandardScaler(), make_column_selector(dtype_exclude='category')),\n    (OneHotEncoder(drop='if_binary', sparse=False), make_column_selector(dtype_include='category'))\n)",
   "execution_count": 26,
   "outputs": []
  },
  {
   "cell_type": "markdown",
   "source": "We fit our HGB model on the training set, then get a prediction based on the training to compare it tothe test one:",
   "metadata": {
    "formattedRanges": [],
    "tags": [],
    "is_collapsed": false,
    "cell_id": "00060-f4191d5c-cb64-47cc-b765-50c78a03f163",
    "deepnote_cell_type": "text-cell-p"
   }
  },
  {
   "cell_type": "code",
   "metadata": {
    "tags": [],
    "deepnote_to_be_reexecuted": false,
    "source_hash": "6174c3d1",
    "execution_start": 1655241559359,
    "execution_millis": 4234,
    "cell_id": "00061-79cf0e35-e94e-49b9-8946-7c27b17a2be6",
    "deepnote_cell_type": "code",
    "deepnote_cell_height": 220
   },
   "source": "#fit the model to the training set\nmodel=make_pipeline(column_transformer, inputer, HGB)\nmodel.fit(train_set, target_flags)\n\n#get a prediction about the training to compare it to the test prediction\nflag_train_prediction=model.predict(train_set)\nprint(f\"Positive predicted samples in training set: {100* flag_train_prediction.sum() / sample_size:.1f} %\")",
   "execution_count": 29,
   "outputs": [
    {
     "name": "stdout",
     "text": "Positive predicted samples in training set: 20.5 %\n",
     "output_type": "stream"
    }
   ]
  },
  {
   "cell_type": "markdown",
   "source": "Finally we get our prediction based on the test set and write them in a new csv file:",
   "metadata": {
    "formattedRanges": [],
    "tags": [],
    "is_collapsed": false,
    "cell_id": "00062-185ca050-9050-44fa-9a9a-3647ea1db15f",
    "deepnote_cell_type": "text-cell-p"
   }
  },
  {
   "cell_type": "code",
   "metadata": {
    "tags": [],
    "deepnote_to_be_reexecuted": false,
    "source_hash": "e88e1f60",
    "execution_start": 1655241563602,
    "execution_millis": 820,
    "cell_id": "00064-6fa846af-24e7-49e1-9b49-0d7d4540d5a7",
    "owner_user_id": "7b2f3f52-98f6-4888-9e89-fb5c1c85776b",
    "deepnote_cell_type": "code",
    "deepnote_cell_height": 147.859375
   },
   "source": "flag_test_prediction=model.predict(test_set)\nnp.savetxt('forecast_auto.csv', flag_test_prediction, fmt='%1d', delimiter=',', newline='\\n')\nprint(f\"Positive predicted samples in test set: {100* flag_test_prediction.sum() / test_size:.1f} %\")",
   "execution_count": 30,
   "outputs": [
    {
     "name": "stdout",
     "text": "Positive predicted samples in test set: 19.2 %\n",
     "output_type": "stream"
    }
   ]
  },
  {
   "cell_type": "markdown",
   "source": "<a style='text-decoration:none;line-height:16px;display:flex;color:#5B5B62;padding:10px;justify-content:end;' href='https://deepnote.com?utm_source=created-in-deepnote-cell&projectId=50ad59a4-7a71-4cfa-9eac-20e7b12614b6' target=\"_blank\">\n<img alt='Created in deepnote.com' style='display:inline;max-height:16px;margin:0px;margin-right:7.5px;' src='data:image/svg+xml;base64,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' > </img>\nCreated in <span style='font-weight:600;margin-left:4px;'>Deepnote</span></a>",
   "metadata": {
    "tags": [],
    "created_in_deepnote_cell": true,
    "deepnote_cell_type": "markdown"
   }
  }
 ],
 "nbformat": 4,
 "nbformat_minor": 2,
 "metadata": {
  "orig_nbformat": 2,
  "deepnote": {},
  "deepnote_notebook_id": "5928bce8-752f-49e1-a444-e7746513645d",
  "deepnote_execution_queue": []
 }
}